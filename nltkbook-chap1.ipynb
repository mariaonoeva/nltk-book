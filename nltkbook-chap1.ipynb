{
 "cells": [
  {
   "cell_type": "markdown",
   "metadata": {},
   "source": [
    "# Chapter 1: Language Processing and Python"
   ]
  },
  {
   "cell_type": "code",
   "execution_count": 43,
   "metadata": {
    "ExecuteTime": {
     "end_time": "2024-03-06T16:16:42.643234Z",
     "start_time": "2024-03-06T16:16:42.446295Z"
    }
   },
   "outputs": [],
   "source": [
    "import nltk\n",
    "from nltk.book import *\n",
    "import matplotlib.pyplot as plt\n",
    "import os\n",
    "from re import split\n",
    "\n",
    "os.chdir(\"/Users/maria.onoeva/Desktop/new_folder/NLP-book\")"
   ]
  },
  {
   "cell_type": "code",
   "execution_count": 44,
   "metadata": {
    "ExecuteTime": {
     "end_time": "2024-03-06T16:16:42.668835Z",
     "start_time": "2024-03-06T16:16:42.642869Z"
    }
   },
   "outputs": [
    {
     "name": "stdout",
     "output_type": "stream",
     "text": [
      "704\n",
      "1.5640968673628082\n"
     ]
    }
   ],
   "source": [
    "# text4.dispersion_plot([\"citizens\", \"democracy\", \"freedom\", \"duties\", \"America\"])\n",
    "# plt.show()\n",
    "\n",
    "# to find out how many times there is lol in the text 5 \n",
    "print(text5.count(\"lol\")) # 704 \n",
    "lol = text5.count(\"lol\")\n",
    "\n",
    "# now we need percentage, i divide how many times we have lol by all the tokens in text5 \n",
    "print(100 * lol / len(text5)) #1.5640968673628082 "
   ]
  },
  {
   "cell_type": "code",
   "execution_count": 45,
   "metadata": {
    "ExecuteTime": {
     "end_time": "2024-03-06T16:16:42.684899Z",
     "start_time": "2024-03-06T16:16:42.666128Z"
    }
   },
   "outputs": [
    {
     "name": "stdout",
     "output_type": "stream",
     "text": [
      "16.050197203298673\n",
      "80.0\n",
      "1.457806031353621\n"
     ]
    }
   ],
   "source": [
    "def lexical_diversity(text): \n",
    "    return len(text) / len(set(text))\n",
    "\n",
    "def percentage(count, total): \n",
    "    return 100 * count / total \n",
    "\n",
    "print(lexical_diversity(text3))\n",
    "print(percentage(4, 5))\n",
    "print(percentage(text4.count(\"a\"), len(text4)))"
   ]
  },
  {
   "cell_type": "markdown",
   "metadata": {},
   "source": [
    "Making the functions for counting "
   ]
  },
  {
   "cell_type": "code",
   "execution_count": 46,
   "metadata": {
    "ExecuteTime": {
     "end_time": "2024-03-06T16:16:42.695083Z",
     "start_time": "2024-03-06T16:16:42.673604Z"
    }
   },
   "outputs": [],
   "source": [
    "def lexical_diversity(text): \n",
    "    return len(text) / len(set(text))\n",
    "\n",
    "def percentage(count, total): \n",
    "    return 100 * count / total "
   ]
  },
  {
   "cell_type": "code",
   "execution_count": 47,
   "metadata": {
    "ExecuteTime": {
     "end_time": "2024-03-06T16:16:42.741073Z",
     "start_time": "2024-03-06T16:16:42.702250Z"
    }
   },
   "outputs": [
    {
     "name": "stdout",
     "output_type": "stream",
     "text": [
      "16.050197203298673\n",
      "80.0\n",
      "1.457806031353621\n"
     ]
    }
   ],
   "source": [
    "print(lexical_diversity(text3))\n",
    "print(percentage(4, 5))\n",
    "print(percentage(text4.count(\"a\"), len(text4)))"
   ]
  },
  {
   "cell_type": "code",
   "execution_count": 48,
   "metadata": {
    "ExecuteTime": {
     "end_time": "2024-03-06T16:16:42.744404Z",
     "start_time": "2024-03-06T16:16:42.709607Z"
    }
   },
   "outputs": [
    {
     "name": "stdout",
     "output_type": "stream",
     "text": [
      "['Call', 'me', 'Ishmael', '.', 'Some']\n",
      "5\n"
     ]
    },
    {
     "data": {
      "text/plain": "1.0"
     },
     "execution_count": 48,
     "metadata": {},
     "output_type": "execute_result"
    }
   ],
   "source": [
    "print(sent1)\n",
    "print(len(sent1))\n",
    "lexical_diversity(sent1)"
   ]
  },
  {
   "cell_type": "code",
   "execution_count": 49,
   "metadata": {
    "ExecuteTime": {
     "end_time": "2024-03-06T16:16:42.797720Z",
     "start_time": "2024-03-06T16:16:42.746250Z"
    }
   },
   "outputs": [
    {
     "name": "stdout",
     "output_type": "stream",
     "text": [
      "['The', 'family', 'of', 'Dashwood', 'had', 'long', 'been', 'settled', 'in', 'Sussex', '.']\n",
      "['In', 'the', 'beginning', 'God', 'created', 'the', 'heaven', 'and', 'the', 'earth', '.']\n"
     ]
    }
   ],
   "source": [
    "print(sent2)\n",
    "print(sent3)"
   ]
  },
  {
   "cell_type": "markdown",
   "metadata": {},
   "source": [
    "My turn: I have to come up with the sentence and play with it"
   ]
  },
  {
   "cell_type": "code",
   "execution_count": 50,
   "metadata": {
    "ExecuteTime": {
     "end_time": "2024-03-06T16:16:42.809908Z",
     "start_time": "2024-03-06T16:16:42.790359Z"
    }
   },
   "outputs": [
    {
     "name": "stdout",
     "output_type": "stream",
     "text": [
      "['Maybe', \"you're\", 'my', 'last', 'love,', 'maybe', \"you're\", 'my', 'first.']\n",
      "['Maybe', 'first.', 'last', 'love,', 'maybe', 'my', 'my', \"you're\", \"you're\"]\n",
      "['Maybe', 'first.', 'last', 'love,', 'maybe', 'my', \"you're\"]\n",
      "9\n",
      "7\n",
      "1\n"
     ]
    }
   ],
   "source": [
    "my_sent = \"Maybe you're my last love, maybe you're my first.\"\n",
    "my_sent_list = list(my_sent) # doesnt work becase it lists tokens (letters, spaces, commas)\n",
    "\n",
    "def Convert(string): # this function makes the list from the str based on the spaces\n",
    "    li = list(string.split(\" \"))\n",
    "    return li \n",
    "\n",
    "my_sent_list1 = Convert(my_sent)\n",
    "\n",
    "print(my_sent_list1)\n",
    "print(sorted(my_sent_list1)) # sorting alphabetically tokens\n",
    "print(sorted(set(my_sent_list1)))\n",
    "print(len(my_sent_list1)) # counting tokens \n",
    "print(len(set(my_sent_list1))) # counting words? \n",
    "print(my_sent_list1.count(\"maybe\"))"
   ]
  },
  {
   "cell_type": "code",
   "execution_count": 51,
   "metadata": {
    "ExecuteTime": {
     "end_time": "2024-03-06T16:16:42.837030Z",
     "start_time": "2024-03-06T16:16:42.805310Z"
    }
   },
   "outputs": [
    {
     "name": "stdout",
     "output_type": "stream",
     "text": [
      "['Maybe', \"you're\", 'my', 'last', 'love,', 'maybe', \"you're\", 'my', 'first.', 'Just', 'another', 'play,', 'the', 'pirate,', 'and', 'the', 'Papillon.']\n"
     ]
    }
   ],
   "source": [
    "my_sent2 = \"Just another play, the pirate, and the Papillon.\"\n",
    "my_sent2_list = Convert(my_sent2)\n",
    "\n",
    "print(my_sent_list1 + my_sent2_list)"
   ]
  },
  {
   "cell_type": "code",
   "execution_count": 52,
   "metadata": {
    "ExecuteTime": {
     "end_time": "2024-03-06T16:16:42.849333Z",
     "start_time": "2024-03-06T16:16:42.818213Z"
    }
   },
   "outputs": [
    {
     "name": "stdout",
     "output_type": "stream",
     "text": [
      "['Call', 'me', 'Ishmael', '.', 'Some', 'Some']\n"
     ]
    }
   ],
   "source": [
    "sent1.append(\"Some\")\n",
    "print(sent1)"
   ]
  },
  {
   "cell_type": "code",
   "execution_count": 53,
   "metadata": {
    "ExecuteTime": {
     "end_time": "2024-03-06T16:16:42.853841Z",
     "start_time": "2024-03-06T16:16:42.843944Z"
    }
   },
   "outputs": [
    {
     "name": "stdout",
     "output_type": "stream",
     "text": [
      "awaken\n",
      "173\n",
      "['U86', 'thats', 'why', 'something', 'like', 'gamefly', 'is', 'so', 'good', 'because', 'you', 'can', 'actually', 'play', 'a', 'full', 'game', 'without', 'buying', 'it']\n",
      "['to', 'be', 'any', 'progress', 'with', 'the', '--', 'WOMAN', ':', 'Dennis', ',', 'there', \"'\", 's', 'some', 'lovely', 'filth', 'down', 'here', '.', 'Oh', '!', 'How', 'd', \"'\", 'you', 'do']\n"
     ]
    }
   ],
   "source": [
    "print(text4[173])\n",
    "print(text4.index('awaken'))\n",
    "print(text5[16715:16735])\n",
    "print(text6[1374:1401])"
   ]
  },
  {
   "cell_type": "markdown",
   "metadata": {},
   "source": [
    "By convention m:n in indexing means from m to n-1; we can use [:3] to omit the first number or [38625347:] so from the number until the end "
   ]
  },
  {
   "cell_type": "code",
   "execution_count": 54,
   "metadata": {
    "ExecuteTime": {
     "end_time": "2024-03-06T16:16:42.879394Z",
     "start_time": "2024-03-06T16:16:42.855235Z"
    }
   },
   "outputs": [
    {
     "name": "stdout",
     "output_type": "stream",
     "text": [
      "['Just', 'Papillon.', 'and', 'another', 'pirate,', 'play,', 'the', 'the']\n"
     ]
    }
   ],
   "source": [
    "print(sorted(my_sent2_list))"
   ]
  },
  {
   "cell_type": "code",
   "execution_count": 55,
   "metadata": {
    "ExecuteTime": {
     "end_time": "2024-03-06T16:16:42.910938Z",
     "start_time": "2024-03-06T16:16:42.870864Z"
    }
   },
   "outputs": [
    {
     "name": "stdout",
     "output_type": "stream",
     "text": [
      "['said', 'than']\n",
      "['After', 'all', 'and', 'done', 'is', 'more', 'said', 'than']\n"
     ]
    }
   ],
   "source": [
    "saying = [\"After\", \"all\", \"is\", \"said\", \"and\", \"done\", \"more\", \"is\", \"said\", \"than\", 'done']\n",
    "tokens = set(saying)\n",
    "tokens = sorted(tokens) \n",
    "print(tokens[-2:])\n",
    "print(tokens)"
   ]
  },
  {
   "cell_type": "markdown",
   "metadata": {},
   "source": [
    "The code from book doesn't work, so I went to the web version for the code. "
   ]
  },
  {
   "cell_type": "code",
   "execution_count": 56,
   "metadata": {
    "ExecuteTime": {
     "end_time": "2024-03-06T16:16:43.266267Z",
     "start_time": "2024-03-06T16:16:42.959452Z"
    }
   },
   "outputs": [
    {
     "name": "stdout",
     "output_type": "stream",
     "text": [
      "<FreqDist with 19317 samples and 260819 outcomes>\n",
      "[(',', 18713), ('the', 13721), ('.', 6862), ('of', 6536), ('and', 6024), ('a', 4569), ('to', 4542), (';', 4072), ('in', 3916), ('that', 2982), (\"'\", 2684), ('-', 2552), ('his', 2459), ('it', 2209), ('I', 2124), ('s', 1739), ('is', 1695), ('he', 1661), ('with', 1659), ('was', 1632), ('as', 1620), ('\"', 1478), ('all', 1462), ('for', 1414), ('this', 1280), ('!', 1269), ('at', 1231), ('by', 1137), ('but', 1113), ('not', 1103), ('--', 1070), ('him', 1058), ('from', 1052), ('be', 1030), ('on', 1005), ('so', 918), ('whale', 906), ('one', 889), ('you', 841), ('had', 767), ('have', 760), ('there', 715), ('But', 705), ('or', 697), ('were', 680), ('now', 646), ('which', 640), ('?', 637), ('me', 627), ('like', 624)]\n",
      "<class 'nltk.text.Text'>\n",
      "906\n"
     ]
    },
    {
     "data": {
      "text/plain": "<Figure size 640x480 with 1 Axes>",
      "image/png": "[encoded data removed]"
     },
     "metadata": {},
     "output_type": "display_data"
    },
    {
     "name": "stdout",
     "output_type": "stream",
     "text": [
      "['CIRCUMNAVIGATION', 'Physiognomically', 'apprehensiveness', 'cannibalistically', 'characteristically', 'circumnavigating', 'circumnavigation', 'circumnavigations', 'comprehensiveness', 'hermaphroditical', 'indiscriminately', 'indispensableness', 'irresistibleness', 'physiognomically', 'preternaturalness', 'responsibilities', 'simultaneousness', 'subterraneousness', 'supernaturalness', 'superstitiousness', 'uncomfortableness', 'uncompromisedness', 'undiscriminating', 'uninterpenetratingly']\n"
     ]
    }
   ],
   "source": [
    "fdist1 = FreqDist(text1)\n",
    "print(fdist1)\n",
    "\n",
    "vocab = fdist1.keys()\n",
    "#print(vocab[:50])\n",
    "\n",
    "print(fdist1.most_common(50))\n",
    "print(type(text1))\n",
    "print(fdist1[\"whale\"])\n",
    "# print(fdist1.hapaxes()) # words that occur only once \n",
    "\n",
    "fdist1.plot(50, cumulative=True)\n",
    "plt.show()\n",
    "\n",
    "V = set(text1) # so I need words only\n",
    "long_words = [w for w in V if len(w) > 15] \n",
    "print(sorted(long_words))\n"
   ]
  },
  {
   "cell_type": "code",
   "execution_count": 57,
   "metadata": {
    "ExecuteTime": {
     "end_time": "2024-03-06T16:16:43.420014Z",
     "start_time": "2024-03-06T16:16:43.294228Z"
    }
   },
   "outputs": [
    {
     "name": "stdout",
     "output_type": "stream",
     "text": [
      "[(',', 9397), ('to', 4063), ('.', 3975), ('the', 3861), ('of', 3565), ('and', 3350), ('her', 2436), ('a', 2043), ('I', 2004), ('in', 1904), ('was', 1846), ('it', 1568), ('\"', 1506), (';', 1419), ('she', 1333), ('be', 1305), ('that', 1297), ('for', 1234), ('not', 1212), ('as', 1179), ('you', 1037), ('with', 971), ('had', 969), ('his', 941), ('he', 895), (\"'\", 883), ('have', 807), ('at', 806), ('by', 737), ('is', 728), ('.\"', 721), ('s', 700), ('Elinor', 684), ('on', 676), ('all', 642), ('him', 633), ('so', 617), ('but', 597), ('which', 592), ('could', 568), ('Marianne', 566), ('my', 551), ('Mrs', 530), ('from', 527), ('would', 507), ('very', 492), ('no', 488), ('their', 463), ('them', 462), ('--', 461)]\n",
      "41\n"
     ]
    }
   ],
   "source": [
    "fdist2 = FreqDist(text2)\n",
    "vocab2 = fdist2.keys()\n",
    "print(fdist2.most_common(50))\n",
    "print(fdist2['child'])"
   ]
  },
  {
   "cell_type": "code",
   "execution_count": 58,
   "metadata": {
    "ExecuteTime": {
     "end_time": "2024-03-06T16:16:43.426847Z",
     "start_time": "2024-03-06T16:16:43.374792Z"
    }
   },
   "outputs": [
    {
     "name": "stdout",
     "output_type": "stream",
     "text": [
      "['#14-19teens', '#talkcity_adults', '((((((((((', '........', 'Question', 'actually', 'anything', 'computer', 'cute.-ass', 'everyone', 'football', 'innocent', 'listening', 'remember', 'seriously', 'something', 'together', 'tomorrow', 'watching']\n",
      "The word \"cat\" appears 12 time(s) in the text <Text: Chat Corpus>.\n"
     ]
    }
   ],
   "source": [
    "fdist5 = FreqDist(text5)\n",
    "words5_seven = [ w for w in set(text5) if len(w) > 7 and fdist5[w] > 7 ]\n",
    "print(sorted(words5_seven))\n",
    "\n",
    "word = 'cat'\n",
    "text = text5 \n",
    "print('The word \"{}\" appears {} time(s) in the text {}.'.format(word, fdist5[word], text))"
   ]
  },
  {
   "cell_type": "code",
   "execution_count": 59,
   "metadata": {
    "ExecuteTime": {
     "end_time": "2024-03-06T16:16:43.428250Z",
     "start_time": "2024-03-06T16:16:43.380870Z"
    }
   },
   "outputs": [
    {
     "name": "stdout",
     "output_type": "stream",
     "text": [
      "United States; fellow citizens; years ago; four years; Federal\n",
      "Government; General Government; American people; Vice President; God\n",
      "bless; Chief Justice; one another; fellow Americans; Old World;\n",
      "Almighty God; Fellow citizens; Chief Magistrate; every citizen; Indian\n",
      "tribes; public debt; foreign nations\n",
      "would like; medium build; social drinker; quiet nights; non smoker;\n",
      "long term; age open; Would like; easy going; financially secure; fun\n",
      "times; similar interests; Age open; weekends away; poss rship; well\n",
      "presented; never married; single mum; permanent relationship; slim\n",
      "build\n"
     ]
    }
   ],
   "source": [
    "text4.collocations()\n",
    "text8.collocations()"
   ]
  },
  {
   "cell_type": "code",
   "execution_count": 60,
   "metadata": {
    "ExecuteTime": {
     "end_time": "2024-03-06T16:16:43.606351Z",
     "start_time": "2024-03-06T16:16:43.399238Z"
    }
   },
   "outputs": [
    {
     "name": "stdout",
     "output_type": "stream",
     "text": [
      "<FreqDist with 19 samples and 260819 outcomes>\n",
      "dict_keys([1, 4, 2, 6, 8, 9, 11, 5, 7, 3, 10, 12, 13, 14, 16, 15, 17, 18, 20])\n",
      "dict_items([(1, 47933), (4, 42345), (2, 38513), (6, 17111), (8, 9966), (9, 6428), (11, 1873), (5, 26597), (7, 14399), (3, 50223), (10, 3528), (12, 1053), (13, 567), (14, 177), (16, 22), (15, 70), (17, 12), (18, 1), (20, 1)])\n",
      "The most frequent word lenght is 3. Three-letter words make 19.255882431878046 percent of the whole text.\n"
     ]
    }
   ],
   "source": [
    "list_words = [len(w) for w in text1] # this makes a list with length for every (EVERY) word in text1\n",
    "fdist = FreqDist([len(w) for w in text1]) # this makes a frequency list out of the length of the words in text 1 (so it counts how long are words and then count the count)\n",
    "print(fdist)\n",
    "print(fdist.keys()) \n",
    "print(fdist.items()) # here it shows how much words had the frequency of eg 1 or 7 \n",
    "print('The most frequent word lenght is {}. Three-letter words make {} percent of the whole text.'.format(fdist.max(), fdist.freq(3)*100)) "
   ]
  },
  {
   "cell_type": "code",
   "execution_count": 61,
   "metadata": {
    "ExecuteTime": {
     "end_time": "2024-03-06T16:16:43.620294Z",
     "start_time": "2024-03-06T16:16:43.568029Z"
    }
   },
   "outputs": [
    {
     "name": "stdout",
     "output_type": "stream",
     "text": [
      "['Pierre', 'Vinken', ',', '61', 'years', 'old', ',', 'will', 'join', 'the', 'board', 'as', 'a', 'nonexecutive', 'director', 'Nov.', '29', '.']\n",
      "[',', '61', 'old', ',', 'the', 'as', 'a', '29', '.']\n",
      "[',', '61', 'old', ',', 'will', 'join', 'the', 'as', 'a', 'Nov.', '29', '.']\n",
      "['Pierre', 'Vinken', 'years', 'board', 'nonexecutive', 'director']\n",
      "['Pierre', 'Vinken', 'years', 'will', 'join', 'board', 'nonexecutive', 'director', 'Nov.']\n"
     ]
    }
   ],
   "source": [
    "print(sent7)\n",
    "print([w for w in sent7 if len(w) < 4])\n",
    "print([w for w in sent7 if len(w) <= 4])\n",
    "print([w for w in sent7 if len(w) > 4])\n",
    "print([w for w in sent7 if len(w) >=4])"
   ]
  },
  {
   "cell_type": "code",
   "execution_count": 62,
   "metadata": {
    "ExecuteTime": {
     "end_time": "2024-03-06T16:16:43.654072Z",
     "start_time": "2024-03-06T16:16:43.568547Z"
    }
   },
   "outputs": [
    {
     "name": "stdout",
     "output_type": "stream",
     "text": [
      "['comfortableness', 'honourableness', 'immutableness', 'indispensableness', 'indomitableness', 'intolerableness', 'palpableness', 'reasonableness', 'uncomfortableness']\n",
      "['Sovereignty', 'sovereignties', 'sovereignty']\n",
      "['Aaaaaaaaah', 'Aaaaaaaah', 'Aauuggghhh', 'Aauuuuugh', 'Aauuuves', 'Actually', 'Almighty', 'Arimathea', 'Armaments', 'Auuuuuuuugh', 'Bedevere', 'Caerbannog', 'Camaaaaaargue', 'Cherries', 'Chickennn', 'Churches', 'Concorde', 'Cornwall', 'Dramatically', 'Enchanter', 'European', 'Everything', 'Excalibur', 'Farewell', 'Gallahad', 'Greetings', 'Honestly', 'Iiiiives', 'Lancelot', 'Launcelot', 'Loimbard', 'Meanwhile', 'Monsieur', 'Ninepence', 'Oooohoohohooo', 'Oooooooh', 'Pendragon', 'Practice', 'Princess', 'Providence', 'Recently', 'Robinson', 'Shrubber', 'Shrubberies', 'Splendid', 'Supposing', 'Therefore', 'Thpppppt', 'Thursday', 'Together', 'Unfortunately']\n",
      "['29', '61']\n"
     ]
    }
   ],
   "source": [
    "print(sorted([w for w in set(text1) if w.endswith('ableness')]))\n",
    "print(sorted([term for term in set(text4) if 'gnt' in term]))\n",
    "print(sorted([item for item in set(text6) if item.istitle() and len(item) > 7])) # test if item is titlecased (all words in item have initial capitals) and length is more than 7 \n",
    "print(sorted([item for item in set(sent7) if item.isdigit()]))"
   ]
  },
  {
   "cell_type": "code",
   "execution_count": 63,
   "metadata": {
    "ExecuteTime": {
     "end_time": "2024-03-06T16:16:43.674Z",
     "start_time": "2024-03-06T16:16:43.640036Z"
    }
   },
   "outputs": [
    {
     "name": "stdout",
     "output_type": "stream",
     "text": [
      "['Stock-index', 'index-arbitrage', 'index-fund', 'index-options', 'index-related', 'stock-index']\n",
      "['Abelmizraim', 'Allonbachuth', 'Beerlahairoi', 'Canaanitish', 'Chedorlaomer', 'Girgashites', 'Hazarmaveth', 'Hazezontamar', 'Ishmeelites', 'Jegarsahadutha', 'Jehovahjireh', 'Kirjatharba', 'Melchizedek', 'Mesopotamia', 'Peradventure', 'Philistines', 'Zaphnathpaaneah']\n",
      "[',', '.', '29', '61', 'Nov.', 'Pierre', 'Vinken']\n",
      "['ancient', 'ceiling', 'conceit', 'conceited', 'conceive', 'conscience', 'conscientious', 'conscientiously', 'deceitful', 'deceive', 'deceived', 'deceiving', 'deficiencies', 'deficiency', 'deficient', 'delicacies', 'excellencies', 'fancied', 'insufficiency', 'insufficient', 'legacies', 'perceive', 'perceived', 'perceiving', 'prescience', 'prophecies', 'receipt', 'receive', 'received', 'receiving', 'society', 'species', 'sufficient', 'sufficiently', 'undeceive', 'undeceiving']\n"
     ]
    }
   ],
   "source": [
    "print(sorted([w for w in set(text7) if '-' in w and 'index' in w]))\n",
    "print(sorted([wd for wd in set(text3) if wd.istitle() and len(wd) > 10]))\n",
    "print(sorted([w for w in set(sent7) if not w.islower()]))\n",
    "print(sorted([t for t in set(text2) if 'cie' in t or 'cei' in t]))"
   ]
  },
  {
   "cell_type": "markdown",
   "source": [
    "## Exercises \n",
    "### 5. Which genre is more lexically diverse? -- Based on the table below, I suppose Fiction: romance is the most diverse genre. \n",
    "\n",
    "But then I realize that this might be wrong because the function is len(set(text))/len(text), so I get the proportion of all words divided by tokens. So if I have ten-word text and all of them are unique, my textual diversity is 10/10, so 1, the highest possible. Thus, the most lexically diverse text is humor. \n",
    "\n",
    "\n",
    "|       Genre       | Tokens | Types | Lexical diversity |\n",
    "|:-----------------:|:------:|:-----:|:-----------------:|\n",
    "| skill and hobbies | 82345  | 11935 |       0.145       |\n",
    "|       humor       | 21695  | 5017  |       0.231       |\n",
    "| fiction: science  | 14470  | 3233  |       0.223       |\n",
    "| press: reportage  | 100554 | 14394 |       0.143       |\n",
    "| fiction: romance  | 70022  | 8452  |       0.121       |\n",
    "|     religion      | 39399  | 6373  |       0.162       |\n"
   ],
   "metadata": {
    "collapsed": false
   }
  },
  {
   "cell_type": "markdown",
   "source": [
    "### 6. Produce a dispersion plot of the four main protagonists in Sense and Sensibility: Elinor, Marianne, Edward, and Willoughby. What can you observe about the different roles played by the males and females in this novel? Can you identify the couples? \n",
    "I do not quite get, what this plot shows, actually. \n",
    "> However, we can also determine the location of a word in the text: how many words from the beginning it appears. This positional information can be displayed using a dispersion plot. Each stripe represents an instance of a word, and each row represents the entire text.\n",
    "\n",
    "Now I get it. So if each strike represents the word usage, then 'Willoughby' was used the most, then goes 'Edward', the males played a bigger role in this text. \n",
    "\n",
    "I cannot identify couples because I do not get how to do it. Perhaps, it's not possible to do. Maximchik showed me how to do see it, uniformity in appearance, Elinor is together with Edward, and Marianne with Willoughby. "
   ],
   "metadata": {
    "collapsed": false
   }
  },
  {
   "cell_type": "code",
   "outputs": [
    {
     "data": {
      "text/plain": "<Figure size 640x480 with 1 Axes>",
      "image/png": "[encoded data removed]"
     },
     "metadata": {},
     "output_type": "display_data"
    }
   ],
   "source": [
    "text2.dispersion_plot(['Elinor', 'Marianne', 'Edward', 'Willoughby'])\n",
    "plt.show()"
   ],
   "metadata": {
    "collapsed": false,
    "ExecuteTime": {
     "end_time": "2024-03-06T16:16:43.837946Z",
     "start_time": "2024-03-06T16:16:43.649705Z"
    }
   },
   "execution_count": 64
  },
  {
   "cell_type": "markdown",
   "source": [
    "### 7. Find the collocations in text5."
   ],
   "metadata": {
    "collapsed": false
   }
  },
  {
   "cell_type": "code",
   "outputs": [
    {
     "name": "stdout",
     "output_type": "stream",
     "text": [
      "wanna chat; PART JOIN; MODE #14-19teens; JOIN PART; PART PART;\n",
      "cute.-ass MP3; MP3 player; JOIN JOIN; times .. .; ACTION watches; guys\n",
      "wanna; song lasts; last night; ACTION sits; -...)...- S.M.R.; Lime\n",
      "Player; Player 12%; dont know; lez gurls; long time\n"
     ]
    }
   ],
   "source": [
    "text5.collocations()"
   ],
   "metadata": {
    "collapsed": false,
    "ExecuteTime": {
     "end_time": "2024-03-06T16:16:43.839475Z",
     "start_time": "2024-03-06T16:16:43.773751Z"
    }
   },
   "execution_count": 65
  },
  {
   "cell_type": "markdown",
   "source": [
    "### 8. Consider the following Python expression: len(set(text4)). State the purpose of this expression. Describe the two steps involved in performing this computation.\n",
    "This expression shows the number of the words in the text four. The first step is to find all unique words, set(text4), then it shows its length."
   ],
   "metadata": {
    "collapsed": false
   }
  },
  {
   "cell_type": "markdown",
   "source": [
    "### 9. Review 2 on lists and strings.\n",
    "\n",
    "a. Define a string and assign it to a variable, e.g., my_string = 'My String' (but put something more interesting in the string). Print the contents of this variable in two ways, first by simply typing the variable name and pressing enter, then by using the print statement.\n",
    "b. Try adding the string to itself using my_string + my_string, or multiplying it by a number, e.g., my_string * 3. Notice that the strings are joined together without any spaces. How could you fix this?"
   ],
   "metadata": {
    "collapsed": false
   }
  },
  {
   "cell_type": "code",
   "outputs": [
    {
     "name": "stdout",
     "output_type": "stream",
     "text": [
      "Ich bin Schnappi, das kleine Krokodil.\n",
      "Ich bin Schnappi, das kleine Krokodil.Ich bin Schnappi, das kleine Krokodil.\n",
      "Ich bin Schnappi, das kleine Krokodil. Ich bin Schnappi, das kleine Krokodil.\n",
      "Ich bin Schnappi, das kleine Krokodil. Ich bin Schnappi, das kleine Krokodil. Ich bin Schnappi, das kleine Krokodil. \n"
     ]
    }
   ],
   "source": [
    "my_string = 'Ich bin Schnappi, das kleine Krokodil.'\n",
    "print(my_string)\n",
    "print(my_string + my_string)\n",
    "print(my_string + ' ' + my_string)\n",
    "print((my_string + \" \") * 3)"
   ],
   "metadata": {
    "collapsed": false,
    "ExecuteTime": {
     "end_time": "2024-03-06T16:16:43.847829Z",
     "start_time": "2024-03-06T16:16:43.781440Z"
    }
   },
   "execution_count": 66
  },
  {
   "cell_type": "markdown",
   "source": [
    "### 10. Define a variable my_sent to be a list of words, using the syntax my_sent = [\"My\", \"sent\"] (but with your own words, or a favorite saying).\n",
    "\n",
    "a. Use ' '.join(my_sent) to convert this into a string.\n",
    "b. Use split() to split the string back into the list form you had to start with."
   ],
   "metadata": {
    "collapsed": false
   }
  },
  {
   "cell_type": "markdown",
   "source": [],
   "metadata": {
    "collapsed": false
   }
  },
  {
   "cell_type": "code",
   "outputs": [
    {
     "name": "stdout",
     "output_type": "stream",
     "text": [
      "['Was', 'ist', 'dein', 'Lieblingsfach?'] Was ist dein Lieblingsfach? ['Was', 'ist', 'dein', 'Lieblingsfach?']\n"
     ]
    }
   ],
   "source": [
    "my_sent3 = ['Was', 'ist', 'dein', 'Lieblingsfach?']\n",
    "my_sent4 = ' '.join(my_sent3)\n",
    "my_sent5 = my_sent4.split(' ')\n",
    "\n",
    "print(my_sent3, my_sent4, my_sent5)"
   ],
   "metadata": {
    "collapsed": false,
    "ExecuteTime": {
     "end_time": "2024-03-06T16:16:43.849105Z",
     "start_time": "2024-03-06T16:16:43.787859Z"
    }
   },
   "execution_count": 67
  },
  {
   "cell_type": "markdown",
   "source": [
    "### 11. Define several variables containing lists of words, e.g., phrase1, phrase2, and so on. Join them together in various combinations (using the plus operator) to form whole sentences. What is the relationship between len(phrase1 + phrase2) and len(phrase1) + len(phrase2)?"
   ],
   "metadata": {
    "collapsed": false
   }
  },
  {
   "cell_type": "code",
   "outputs": [
    {
     "name": "stdout",
     "output_type": "stream",
     "text": [
      "['Einmal', 'in', 'der', 'Woche', 'Kunst', 'und', 'Musik', 'Zweimal', 'in', 'der', 'Woche', 'Geschichte', 'und', 'Deutsch']\n",
      "6\n",
      "6\n"
     ]
    }
   ],
   "source": [
    "phrase1 = ['Einmal', 'in', 'der', 'Woche']\n",
    "phrase2 = ['Kunst', 'und', 'Musik']\n",
    "phrase3 = ['Zweimal', 'in', 'der', 'Woche']\n",
    "phrase4 = ['Geschichte', 'und', 'Deutsch']\n",
    "\n",
    "print(phrase1 + phrase2 + phrase3 + phrase4)\n",
    "print(len(phrase4) + len(phrase2)) # we're combining length of the phrases\n",
    "print(len(phrase4 + phrase2)) # we're combining phrases, and then we find out their length "
   ],
   "metadata": {
    "collapsed": false,
    "ExecuteTime": {
     "end_time": "2024-03-06T16:16:44.020742Z",
     "start_time": "2024-03-06T16:16:43.793797Z"
    }
   },
   "execution_count": 68
  },
  {
   "cell_type": "markdown",
   "source": [
    "### 12. Consider the following two expressions, which have the same value. Which one will typically be more relevant in NLP? Why?\n",
    "\n",
    "a. \"Monty Python\"[6:12]\n",
    "b. [\"Monty\", \"Python\"][1] -- This one. Both show 'Python' but this expression does it in the quicker and easier way. "
   ],
   "metadata": {
    "collapsed": false
   }
  },
  {
   "cell_type": "markdown",
   "source": [
    "### 13. We have seen how to represent a sentence as a list of words, where each word is a sequence of characters. What does sent1[2][2] do? Why? Experiment with other index values."
   ],
   "metadata": {
    "collapsed": false
   }
  },
  {
   "cell_type": "code",
   "outputs": [
    {
     "name": "stdout",
     "output_type": "stream",
     "text": [
      "h\n",
      "Ishmael\n"
     ]
    }
   ],
   "source": [
    "print(sent1[2][2]) # this shows 'h', the third index of the third item in the list \n",
    "print(sent1[2]) # 'Ishmael'"
   ],
   "metadata": {
    "collapsed": false,
    "ExecuteTime": {
     "end_time": "2024-03-06T16:16:44.041862Z",
     "start_time": "2024-03-06T16:16:43.799313Z"
    }
   },
   "execution_count": 69
  },
  {
   "cell_type": "markdown",
   "source": [
    "### 14. The first sentence of text3 is provided to you in the variable sent3. The index of the in sent3 is 1, because sent3[1] gives us 'the'. What are the indexes of the two other occurrences of this word in sent3? \n",
    "1, 5, 8 "
   ],
   "metadata": {
    "collapsed": false
   }
  },
  {
   "cell_type": "code",
   "outputs": [
    {
     "name": "stdout",
     "output_type": "stream",
     "text": [
      "['In', 'the', 'beginning', 'God', 'created', 'the', 'heaven', 'and', 'the', 'earth', '.']\n",
      "the\n",
      "['the', 'the', 'the']\n"
     ]
    }
   ],
   "source": [
    "print(sent3)\n",
    "print(sent3[1])\n",
    "print([w for w in sent3 if w == 'the']) # so far idk how to print out all indices of 'the'"
   ],
   "metadata": {
    "collapsed": false,
    "ExecuteTime": {
     "end_time": "2024-03-06T16:16:44.053558Z",
     "start_time": "2024-03-06T16:16:43.804961Z"
    }
   },
   "execution_count": 70
  },
  {
   "cell_type": "markdown",
   "source": [
    "### 15. Review the discussion of conditionals in 4. Find all words in the Chat Corpus (text5) starting with the letter b. Show them in alphabetical order."
   ],
   "metadata": {
    "collapsed": false
   }
  },
  {
   "cell_type": "code",
   "outputs": [
    {
     "name": "stdout",
     "output_type": "stream",
     "text": [
      "<Text: Chat Corpus>\n",
      "['b', 'b', 'b', 'b', 'b', 'b', 'b-day', 'b/c', 'b4', 'b4', 'babay', 'babble', 'babblein', 'babe', 'babe', 'babe', 'babe', 'babe', 'babe', 'babe', 'babe', 'babe', 'babe', 'babe', 'babes', 'babes', 'babes', 'babi', 'babi', 'babies', 'babies', 'babiess', 'baby', 'baby', 'baby', 'baby', 'baby', 'baby', 'baby', 'baby', 'baby', 'baby', 'baby', 'baby', 'baby', 'baby', 'baby', 'baby', 'baby', 'baby', 'baby', 'baby', 'baby', 'baby', 'baby', 'baby', 'baby', 'baby', 'babycakeses', 'bachelorette', 'back', 'back', 'back', 'back', 'back', 'back', 'back', 'back', 'back', 'back', 'back', 'back', 'back', 'back', 'back', 'back', 'back', 'back', 'back', 'back', 'back', 'back', 'back', 'back', 'back', 'back', 'back', 'back', 'back', 'back', 'back', 'back', 'back', 'back', 'back', 'back', 'back', 'back', 'back', 'back', 'back', 'back', 'back', 'back', 'back', 'back', 'back', 'back', 'back', 'back', 'back', 'back', 'back', 'back', 'back', 'back', 'back', 'back', 'back', 'back', 'back', 'back', 'back', 'back', 'back', 'back', 'back', 'back', 'back', 'back', 'back', 'back', 'back', 'back', 'back', 'back', 'back', 'back', 'backatchya', 'backfrontsidewaysandallaroundtheworld', 'backroom', 'backup', 'bacl', 'bad', 'bad', 'bad', 'bad', 'bad', 'bad', 'bad', 'bad', 'bad', 'bad', 'bad', 'bad', 'bad', 'bad', 'bad', 'bad', 'bad', 'bad', 'bad', 'bad', 'bad', 'bad', 'bad', 'bad', 'bad', 'bad', 'bag', 'bag', 'bag', 'bagel', 'bagels', 'bahahahaa', 'bak', 'baked', 'balad', 'balance', 'balck', 'balck', 'ball', 'ball', 'ball', 'ball', 'ball', 'ball', 'ballin', 'balls', 'balls', 'ban', 'ban', 'ban', 'band', 'band', 'band', 'bandito', 'bandsaw', 'banjoes', 'banned', 'banned', 'baord', 'bar', 'bar', 'bar', 'bar', 'bar', 'bar', 'barbie', 'barbie', 'barbie', 'barbie', 'bare', 'bare', 'bare', 'barely', 'bares', 'barfights', 'barks', 'barn', 'barrel', 'base', 'bases', 'basically', 'basket', 'basket', 'battery', 'battery', 'bay', 'bay', 'bbbbbyyyyyyyeeeeeeeee', 'bbiam', 'bbl', 'bbl', 'bbl', 'bbl', 'bbl', 'bbl', 'bbs', 'bbs', 'bbs', 'bc', 'be', 'be', 'be', 'be', 'be', 'be', 'be', 'be', 'be', 'be', 'be', 'be', 'be', 'be', 'be', 'be', 'be', 'be', 'be', 'be', 'be', 'be', 'be', 'be', 'be', 'be', 'be', 'be', 'be', 'be', 'be', 'be', 'be', 'be', 'be', 'be', 'be', 'be', 'be', 'be', 'be', 'be', 'be', 'be', 'be', 'be', 'be', 'be', 'be', 'be', 'be', 'be', 'be', 'be', 'be', 'be', 'be', 'be', 'be', 'be', 'be', 'be', 'be', 'be', 'be', 'be', 'be', 'be', 'be', 'be', 'be', 'be', 'be', 'be', 'be', 'be', 'be', 'be', 'be', 'be', 'be', 'be', 'be', 'be', 'be', 'be', 'be', 'be', 'be', 'be', 'be', 'be', 'be', 'be', 'be', 'be', 'be', 'be', 'be', 'be', 'be', 'be', 'be', 'be', 'be', 'be', 'be', 'beach', 'beach', 'beach', 'beach', 'beach', 'beach', 'beach', 'beachhhh', 'beam', 'beams', 'beanbag', 'beanbag', 'beanbag', 'beans', 'bear', 'bear', 'bears', 'bears', 'bears', 'beat', 'beat', 'beat', 'beat', 'beaten', 'beaten', 'beatles', 'beats', 'beattles', 'beattles', 'beautiful', 'beautiful', 'because', 'because', 'because', 'because', 'because', 'because', 'because', 'because', 'because', 'because', 'because', 'because', 'because', 'beckley', 'become', 'become', 'become', 'bed', 'bed', 'bed', 'bed', 'bed', 'bed', 'bed', 'bed', 'bedford', 'bedroom', 'beeeeehave', 'beeehave', 'been', 'been', 'been', 'been', 'been', 'been', 'been', 'been', 'been', 'been', 'been', 'been', 'been', 'been', 'been', 'been', 'been', 'been', 'been', 'been', 'been', 'been', 'been', 'been', 'been', 'been', 'been', 'been', 'been', 'been', 'been', 'been', 'been', 'been', 'been', 'been', 'been', 'been', 'been', 'been', 'been', 'been', 'been', 'been', 'been', 'been', 'been', 'been', 'been', 'been', 'been', 'been', 'been', 'been', 'been', 'been', 'been', 'beer', 'beer', 'beer', 'beer', 'beer', 'before', 'before', 'before', 'before', 'before', 'before', 'before', 'before', 'before', 'before', 'before', 'before', 'before', 'beg', 'begin', 'behave', 'behave', 'behind', 'behind', 'behind', 'behind', 'bein', 'being', 'being', 'being', 'being', 'being', 'being', 'being', 'being', 'being', 'being', 'being', 'being', 'beleive', 'believe', 'believe', 'believe', 'believe', 'believe', 'believe', 'belive', 'bell', 'belly', 'belly', 'belong', 'belong', 'belongings', 'ben', 'bend', 'bend', 'bend', 'benz', 'bes', 'beside', 'besides', 'besides', 'besides', 'best', 'best', 'best', 'best', 'best', 'best', 'best', 'best', 'best', 'bet', 'bet', 'bet', 'bet', 'bet', 'bet', 'bet', 'bet', 'betrayal', 'betta', 'better', 'better', 'better', 'better', 'better', 'better', 'better', 'better', 'better', 'better', 'better', 'better', 'better', 'better', 'better', 'better', 'better', 'better', 'better', 'better', 'better', 'better', 'better', 'between', 'between', 'between', 'between', 'beuty', 'bf', 'bf', 'bi', 'bi', 'bi', 'bi', 'bi', 'bi', 'bi', 'bi', 'bi', 'bi', 'biatch', 'biatch', 'bible', 'bible', 'bible', 'biebsa', 'bied', 'big', 'big', 'big', 'big', 'big', 'big', 'big', 'big', 'big', 'big', 'big', 'big', 'bigest', 'biggest', 'biiiatch', 'bike', 'bikes', 'bikini', 'bio', 'bird', 'birfday', 'birthday', 'birthday', 'bisexual', 'bishes', 'bit', 'bit', 'bit', 'bit', 'bit', 'bit', 'bit', 'bit', 'bit', 'bit', 'bit', 'bit', 'bitch', 'bitch', 'bitch', 'bitch', 'bitches', 'bitches', 'bitches', 'bitdh', 'bite', 'bite', 'bites', 'bites', 'biyatch', 'biz', 'biz', 'bj', 'black', 'black', 'black', 'black', 'black', 'black', 'black', 'black', 'blade', 'blade', 'blah', 'blah', 'blah', 'blah', 'blah', 'blah', 'blank', 'blank', 'blank', 'blank', 'blankie', 'blankie', 'blazed', 'bleach', 'blech', 'bless', 'blessings', 'blew', 'blew', 'blind', 'blind', 'blind', 'blinks', 'bliss', 'blocking', 'bloe', 'blood', 'blood', 'blood', 'blood', 'blood', 'blooded', 'bloody', 'blow', 'blowing', 'blowjob', 'blowup', 'blue', 'blue', 'blue', 'blue', 'blue', 'blue', 'blue', 'blue', 'blueberry', 'bluer', 'blues', 'blunt', 'board', 'board', 'bob', 'bob', 'bodies', 'bodies', 'body', 'boed', 'boght', 'boi', 'boing', 'boinked', 'bois', 'bomb', 'bone', 'boned', 'bones', 'bones', 'bong', 'boning', 'bonus', 'boo', 'boo', 'boo', 'boo', 'boo', 'booboo', 'boobs', 'boobs', 'book', 'book', 'book', 'book', 'book', 'book', 'book', 'book', 'book', 'boom', 'boooooooooooglyyyyyy', 'boost', 'boot', 'bootay', 'booted', 'booted', 'booted', 'boots', 'boots', 'booty', 'border', 'borderline', 'bored', 'bored', 'bored', 'bored', 'bored', 'bored', 'bored', 'bored', 'bored', 'bored', 'bored', 'bored', 'bored', 'bored', 'bored', 'bored', 'bored', 'bored', 'bored', 'bored', 'boredom', 'boring', 'boring', 'boring', 'boring', 'boring', 'boring', 'boring', 'born', 'born', 'born-again', 'born-again', 'bosom', 'boss', 'boss', 'boss', 'boss', 'boss', 'bossy', 'bot', 'bot', 'bot', 'bot', 'bot', 'bot', 'bot', 'bot', 'bot', 'bot', 'both', 'both', 'both', 'both', 'both', 'bother', 'bothering', 'bottle', 'bottle', 'bottle', 'bottle', 'bottle', 'bought', 'bounced', 'bouncer', 'bouncers', 'bound', 'bout', 'bout', 'bout', 'bout', 'bout', 'bout', 'bout', 'bout', 'bout', 'bout', 'bout', 'bout', 'bouts', 'bouts', 'bow', 'bowl', 'box', 'box', 'box', 'box', 'boy', 'boy', 'boy', 'boy', 'boy', 'boy', 'boy', 'boy', 'boy', 'boy', 'boy', 'boy', 'boy', 'boyfriend', 'boys', 'boys', 'boys', 'boys', 'boys', 'bra', 'brad', 'brady', 'brain', 'brain', 'brakes', 'brass', 'brat', 'brb', 'brb', 'brb', 'brb', 'brb', 'brb', 'brb', 'brb', 'brb', 'brb', 'brb', 'brb', 'brb', 'brb', 'brb', 'brb', 'brb', 'brb', 'brb', 'brb', 'brb', 'brb', 'brb', 'brb', 'brb', 'brb', 'brb', 'brb', 'brb', 'brb', 'brb', 'brb', 'brb', 'brbbb', 'bread', 'bread', 'break', 'break', 'breaks', 'breath', 'breath', 'breathe', 'breathe', 'bred', 'breeding', 'bright', 'brightened', 'bring', 'bring', 'bring', 'bring', 'brings', 'bro', 'bro', 'bro', 'broke', 'broke', 'broke', 'broke', 'broke', 'broke', 'brooklyn', 'brother', 'brothers', 'brought', 'brought', 'brown', 'brown', 'brrrrrrr', 'bruises', 'bruises', 'brunswick', 'brwn', 'btw', 'bucks', 'buddyyyyyy', 'buff', 'buffalo', 'bug', 'bug', 'bugs', 'buh', 'buh', 'build', 'build', 'builds', 'built', 'bull', 'bulls', 'bum', 'bum', 'bumber', 'bummer', 'bumped', 'bumper', 'bunch', 'bunny', 'burger', 'burito', 'burned', 'burns', 'burns', 'burns', 'burp', 'burp', 'burpin', 'burps', 'burps', 'burried', 'burryed', 'bus', 'bus', 'bus', 'bus', 'bus', 'buses', 'bust', 'busted', 'busy', 'busy', 'busy', 'busy', 'busy', 'busy', 'busy', 'busy', 'busy', 'busy', 'busy', 'busy', 'busy', 'busy', 'busy', 'busy', 'busy', 'but', 'but', 'but', 'but', 'but', 'but', 'but', 'but', 'but', 'but', 'but', 'but', 'but', 'but', 'but', 'but', 'but', 'but', 'but', 'but', 'but', 'but', 'but', 'but', 'but', 'but', 'but', 'but', 'but', 'but', 'but', 'but', 'but', 'but', 'but', 'but', 'but', 'but', 'but', 'but', 'but', 'but', 'but', 'but', 'but', 'but', 'but', 'but', 'but', 'but', 'but', 'but', 'but', 'but', 'but', 'but', 'but', 'but', 'but', 'but', 'but', 'but', 'but', 'but', 'but', 'but', 'but', 'but', 'but', 'but', 'but', 'but', 'but', 'but', 'but', 'but', 'but', 'but', 'but', 'but', 'but', 'but', 'but', 'but', 'but', 'but', 'but', 'but', 'but', 'but', 'butt', 'butt', 'butt', 'butter', 'butterscotch', 'button', 'button', 'buttons', 'buttons', 'buy', 'buy', 'buy', 'buy', 'buy', 'buy', 'buy', 'buy', 'buy', 'buying', 'buying', 'bwahahahahahahahahahaha', 'by', 'by', 'by', 'by', 'by', 'by', 'by', 'by', 'by', 'by', 'by', 'by', 'by', 'by', 'by', 'by', 'by', 'by', 'by', 'by', 'by', 'by', 'by', 'by', 'by', 'byb', 'bye', 'bye', 'bye', 'bye', 'bye', 'bye', 'bye', 'bye', 'bye', 'bye', 'bye', 'bye', 'bye', 'bye', 'bye', 'bye', 'bye', 'bye', 'bye', 'bye', 'bye', 'bye', 'bye', 'bye', 'bye', 'bye', 'bye', 'bye', 'bye', 'bye', 'bye', 'bye', 'bye', 'bye', 'bye', 'bye', 'bye', 'bye', 'bye', 'bye', 'bye', 'bye', 'bye', 'bye', 'byeee', 'byeee', 'byeeee', 'byeeeeeeee', 'byeeeeeeeeeeeee', 'byes']\n"
     ]
    }
   ],
   "source": [
    "print(text5)\n",
    "print(sorted([w for w in text5 if w.startswith('b')]))"
   ],
   "metadata": {
    "collapsed": false,
    "ExecuteTime": {
     "end_time": "2024-03-06T16:16:44.057639Z",
     "start_time": "2024-03-06T16:16:43.820399Z"
    }
   },
   "execution_count": 71
  },
  {
   "cell_type": "markdown",
   "source": [
    "### 16. Type the expression list(range(10)) at the interpreter prompt. Now try list(range(10, 20)), list(range(10, 20, 2)), and list(range(20, 10, -2)). We will see a variety of uses for this built-in function in later chapters."
   ],
   "metadata": {
    "collapsed": false
   }
  },
  {
   "cell_type": "markdown",
   "source": [
    "### 17. Use text9.index() to find the index of the word sunset. You'll need to insert this word as an argument between the parentheses. By a process of trial and error, find the slice for the complete sentence that contains this word."
   ],
   "metadata": {
    "collapsed": false
   }
  },
  {
   "cell_type": "code",
   "outputs": [
    {
     "name": "stdout",
     "output_type": "stream",
     "text": [
      "629\n",
      "['.', 'C', '.', 'CHAPTER', 'I', 'THE', 'TWO', 'POETS', 'OF', 'SAFFRON', 'PARK', 'THE', 'suburb', 'of', 'Saffron', 'Park', 'lay', 'on', 'the', 'sunset', 'side', 'of', 'London', ',', 'as', 'red', 'and', 'ragged', 'as', 'a']\n",
      "['THE', 'suburb', 'of', 'Saffron', 'Park', 'lay', 'on', 'the', 'sunset', 'side', 'of', 'London', ',', 'as', 'red', 'and', 'ragged', 'as', 'a', 'cloud', 'of', 'sunset', '.', 'It', 'was', 'built', 'of', 'a', 'bright']\n",
      "['THE', 'suburb', 'of', 'Saffron', 'Park', 'lay', 'on', 'the', 'sunset', 'side', 'of', 'London', ',', 'as', 'red', 'and', 'ragged', 'as', 'a', 'cloud', 'of', 'sunset', '.', 'It', 'was', 'built']\n",
      "['THE', 'suburb', 'of', 'Saffron', 'Park', 'lay', 'on', 'the', 'sunset', 'side', 'of', 'London', ',', 'as', 'red', 'and', 'ragged', 'as', 'a', 'cloud', 'of', 'sunset', '.', 'It']\n",
      "['THE', 'suburb', 'of', 'Saffron', 'Park', 'lay', 'on', 'the', 'sunset', 'side', 'of', 'London', ',', 'as', 'red', 'and', 'ragged', 'as', 'a', 'cloud', 'of', 'sunset', '.']\n"
     ]
    }
   ],
   "source": [
    "print(text9.index('sunset'))\n",
    "print(text9[610:640])\n",
    "print(text9[621:650])\n",
    "print(text9[621:647])\n",
    "print(text9[621:645])\n",
    "print(text9[621:644])"
   ],
   "metadata": {
    "collapsed": false,
    "ExecuteTime": {
     "end_time": "2024-03-06T16:16:44.090297Z",
     "start_time": "2024-03-06T16:16:43.826082Z"
    }
   },
   "execution_count": 72
  },
  {
   "cell_type": "markdown",
   "source": [
    "### 18. Using list addition, and the set and sorted operations, compute the vocabulary of the sentences sent1 ... sent8."
   ],
   "metadata": {
    "collapsed": false
   }
  },
  {
   "cell_type": "code",
   "outputs": [
    {
     "name": "stdout",
     "output_type": "stream",
     "text": [
      "['!', ',', '-', '.', '1', '25', '29', '61', ':', 'ARTHUR', 'Call', 'Citizens', 'Dashwood', 'Fellow', 'God', 'House', 'I', 'In', 'Ishmael', 'JOIN', 'KING', 'MALE', 'Nov.', 'PMing', 'Pierre', 'Representatives', 'SCENE', 'SEXY', 'Senate', 'Some', 'Sussex', 'The', 'Vinken', 'Whoa', '[', ']', 'a', 'and', 'as', 'attrac', 'been', 'beginning', 'board', 'clop', 'created', 'director', 'discreet', 'earth', 'encounters', 'family', 'for', 'had', 'have', 'heaven', 'in', 'join', 'lady', 'lol', 'long', 'me', 'nonexecutive', 'of', 'old', 'older', 'people', 'problem', 'seeks', 'settled', 'single', 'the', 'there', 'to', 'will', 'wind', 'with', 'years']\n"
     ]
    }
   ],
   "source": [
    "giga_list = sent1 + sent2 + sent3 + sent4 + sent5 + sent6 + sent7 + sent8 \n",
    "print(sorted(set(giga_list)))"
   ],
   "metadata": {
    "collapsed": false,
    "ExecuteTime": {
     "end_time": "2024-03-06T16:16:44.109165Z",
     "start_time": "2024-03-06T16:16:43.832722Z"
    }
   },
   "execution_count": 73
  },
  {
   "cell_type": "markdown",
   "source": [
    "### 19. What is the difference between the following two lines? Which one will give a larger value? Will this be the case for other texts?\n",
    "The bigger is the second line. The difference is in set(), which gives the words and not the tokens. In the first case, it is applied after we lowered all the words in text1, so now all words like 'Cat' and 'cat' are the same 'cat', so when one applies set() to it, they are counted as one word. In the second case, 'Cat' and 'cat' are still different words, so if one lowers them and then sorts, they will appear twice. "
   ],
   "metadata": {
    "collapsed": false
   }
  },
  {
   "cell_type": "code",
   "outputs": [
    {
     "name": "stdout",
     "output_type": "stream",
     "text": [
      "17231\n",
      "19317\n"
     ]
    }
   ],
   "source": [
    "print(len(sorted(set(w.lower() for w in text1))))\n",
    "print(len(sorted(w.lower() for w in set(text1))))"
   ],
   "metadata": {
    "collapsed": false,
    "ExecuteTime": {
     "end_time": "2024-03-06T16:16:44.214819Z",
     "start_time": "2024-03-06T16:16:43.838945Z"
    }
   },
   "execution_count": 74
  },
  {
   "cell_type": "markdown",
   "source": [
    "### 20. What is the difference between the following two tests: w.isupper() and not w.islower()?"
   ],
   "metadata": {
    "collapsed": false
   }
  },
  {
   "cell_type": "code",
   "outputs": [
    {
     "name": "stdout",
     "output_type": "stream",
     "text": [
      "4083\n",
      "62579\n"
     ]
    }
   ],
   "source": [
    "print(len([w for w in text1 if w.isupper()])) # prints out the word that are uppercase only, e.g., 'CAT', 'DOG', but not 'Cat' and 'Dog'\n",
    "print(len([w for w in text1 if not w.islower()])) # prints out everything that is not lower, punctuation and 'Cat', 'Dog', 'CAT', 'DOG' etc. "
   ],
   "metadata": {
    "collapsed": false,
    "ExecuteTime": {
     "end_time": "2024-03-06T16:16:44.359307Z",
     "start_time": "2024-03-06T16:16:44.058047Z"
    }
   },
   "execution_count": 75
  },
  {
   "cell_type": "markdown",
   "source": [
    "### 21. Write the slice expression that extracts the last two words of text2."
   ],
   "metadata": {
    "collapsed": false
   }
  },
  {
   "cell_type": "code",
   "outputs": [
    {
     "name": "stdout",
     "output_type": "stream",
     "text": [
      "['THE', 'END']\n"
     ]
    }
   ],
   "source": [
    "print(text2[-2:])"
   ],
   "metadata": {
    "collapsed": false,
    "ExecuteTime": {
     "end_time": "2024-03-06T16:16:44.361817Z",
     "start_time": "2024-03-06T16:16:44.107719Z"
    }
   },
   "execution_count": 76
  },
  {
   "cell_type": "markdown",
   "source": [
    "### 22. Find all the four-letter words in the Chat Corpus (text5). With the help of a frequency distribution (FreqDist), show these words in decreasing order of frequency."
   ],
   "metadata": {
    "collapsed": false
   }
  },
  {
   "cell_type": "code",
   "outputs": [
    {
     "name": "stdout",
     "output_type": "stream",
     "text": [
      "[('JOIN', 1021), ('PART', 1016), ('that', 274), ('what', 183), ('here', 181), ('have', 164), ('like', 156), ('with', 152), ('chat', 142), ('your', 137), ('good', 130), ('just', 125), ('lmao', 107), ('know', 103), ('room', 98), ('from', 92), ('this', 86), ('well', 81), ('back', 78), ('hiya', 78), ('they', 77), ('dont', 75), ('yeah', 75), ('want', 71), ('love', 60), ('guys', 58), ('some', 58), ('been', 57), ('talk', 56), ('nice', 52), ('time', 50), ('when', 48), ('haha', 44), ('make', 44), ('girl', 43), ('need', 43), ('MODE', 41), ('will', 40), ('much', 40), ('then', 40), ('over', 39), ('work', 38), ('were', 38), ('take', 37), ('song', 36), ('even', 35), ('does', 35), ('seen', 35), ('more', 34), ('damn', 34), ('only', 33), ('come', 33), ('hell', 29), ('long', 28), ('them', 28), ('name', 27), ('tell', 27), ('away', 26), ('sure', 26), ('look', 26), ('baby', 26), ('call', 26), ('play', 25), ('NICK', 24), ('down', 24), ('cool', 24), ('sexy', 23), ('many', 23), ('hate', 23), ('said', 23), ('last', 22), ('ever', 22), ('hear', 21), ('life', 21), ('live', 20), ('feel', 19), ('very', 19), ('mean', 19), ('give', 19), ('same', 19), ('must', 19), ('stop', 19), ('LMAO', 19), ('hugs', 18), ('What', 18), ('find', 18), ('cant', 18), ('left', 17), ('shit', 17), ('nite', 17), ('busy', 17), ('hair', 17), ('lost', 17), ('fine', 16), ('real', 16), ('game', 16), ('fuck', 15), ('sits', 15), ('eyes', 15), ('lets', 15), ('heya', 15), ('kill', 15), ('read', 14), ('shut', 14), ('wait', 14), ('goes', 14), ('keep', 14), ('true', 14), ('pick', 13), ('free', 13), ('else', 13), ('near', 13), ('nope', 13), ('hope', 12), ('head', 12), ('male', 12), ('than', 12), ('gets', 12), ('cold', 12), ('hehe', 12), ('bout', 12), ('stay', 12), ('used', 12), ('awww', 12), ('told', 12), ('This', 12), ('doin', 11), ('kids', 11), ('perv', 11), ('wont', 11), ('face', 11), ('home', 11), ('year', 11), ('babe', 11), ('into', 11), ('yall', 11), ('hard', 10), ('show', 10), ('once', 10), ('Well', 10), ('help', 10), ('mind', 10), ('Yeah', 10), ('week', 10), ('Liam', 10), ('pics', 9), ('such', 9), ('type', 9), ('best', 9), ('neck', 9), ('dang', 9), ('dead', 9), ('runs', 9), ('aint', 9), ('rock', 9), ('days', 9), ('mine', 9), ('book', 9), ('crap', 9), ('soon', 9), ('care', 9), ('full', 9), ('kiss', 9), ('hour', 9), ('nick', 9), ('sick', 9), ('hmmm', 9), ('word', 8), ('heyy', 8), ('case', 8), ('wana', 8), ('hows', 8), ('went', 8), ('lady', 8), ('blue', 8), ('says', 8), ('suck', 8), ('made', 8), ('wife', 8), ('sang', 8), ('fast', 7), ('rule', 7), ('dude', 7), ('okay', 7), ('alot', 7), ('hand', 7), ('took', 7), ('wear', 7), ('Hiya', 7), ('kick', 7), ('ahhh', 7), ('dear', 7), ('That', 7), ('most', 6), ('thru', 6), ('list', 6), ('seem', 6), ('sing', 6), ('next', 6), ('done', 6), ('ride', 6), ('comp', 6), ('main', 6), ('goin', 6), ('pink', 6), ('poor', 6), ('gone', 6), ('oops', 6), ('knew', 6), ('ball', 6), ('send', 6), ('Song', 6), ('blah', 6), ('They', 6), ('part', 6), ('Last', 6), ('whos', 6), ('food', 6), ('sock', 6), ('legs', 5), ('fire', 5), ('warm', 5), ('late', 5), ('hang', 5), ('miss', 5), ('boys', 5), ('land', 5), ('nose', 5), ('lick', 5), ('caps', 5), ('wish', 5), ('came', 5), ('cali', 5), ('roll', 5), ('easy', 5), ('lose', 5), ('When', 5), ('soul', 5), ('luck', 5), ('also', 5), ('kool', 5), ('fall', 5), ('boss', 5), ('beer', 5), ('ohhh', 5), ('wall', 5), ('Have', 5), ('meet', 5), ('till', 5), ('feet', 5), ('xbox', 5), ('idea', 5), ('heck', 5), ('joke', 5), ('fool', 5), ('felt', 5), ('yoko', 5), ('meds', 5), ('both', 5), ('Lime', 5), ('glad', 4), ('jerk', 4), ('ugly', 4), ('date', 4), ('ummm', 4), ('quit', 4), ('rest', 4), ('door', 4), ('none', 4), ('self', 4), ('pass', 4), ('line', 4), ('cute', 4), ('holy', 4), ('hook', 4), ('Like', 4), ('each', 4), ('open', 4), ('high', 4), ('ouch', 4), ('evil', 4), ('fart', 4), ('grrr', 4), ('pain', 4), ('pfft', 4), ('sigh', 4), ('shes', 4), ('ROOM', 4), ('lord', 4), ('mmmm', 4), ('ones', 4), ('huge', 4), ('woot', 4), ('shot', 4), ('team', 4), ('ways', 4), ('beat', 4), ('kent', 4), ('turn', 4), ('lame', 4), ('puff', 4), ('clap', 3), ('itch', 3), ('guyz', 3), ('gold', 3), ('ring', 3), ('isnt', 3), ('Only', 3), ('Your', 3), ('deal', 3), ('wash', 3), ('piff', 3), ('jump', 3), ('band', 3), ('orgy', 3), ('slap', 3), ('soft', 3), ('bend', 3), ('toss', 3), ('amen', 3), ('rain', 3), ('deop', 3), ('roof', 3), ('CHAT', 3), ('ahem', 3), ('hola', 3), ('butt', 3), ('imma', 3), ('town', 3), ('hawt', 3), ('Elev', 3), ('Wind', 3), ('AKDT', 3), ('lead', 3), ('DING', 3), ('note', 3), ('gawd', 3), ('half', 3), ('mary', 3), ('ello', 3), ('hick', 3), ('wine', 3), ('hiii', 3), ('bare', 3), ('vote', 3), ('Same', 3), ('wack', 3), ('snow', 3), ('hurt', 3), ('move', 3), ('road', 3), ('walk', 3), ('yawn', 3), ('hail', 3), ('nana', 3), ('hump', 3), ('elle', 3), ('yada', 3), ('tune', 3), ('hank', 3), ('slow', 3), ('rubs', 3), ('skin', 3), ('died', 3), ('swim', 3), ('army', 3), ('THAT', 3), ('wazz', 3), ('toes', 3), ('golf', 2), ('drew', 2), ('cast', 2), ('Days', 2), ('opps', 2), ('plan', 2), ('Just', 2), ('deaf', 2), ('deep', 2), ('phil', 2), ('hmph', 2), ('Poor', 2), ('Lies', 2), ('bite', 2), ('mins', 2), ('eats', 2), ('cell', 2), ('cmon', 2), ('wats', 2), ('kind', 2), ('mike', 2), ('whoa', 2), ('dumb', 2), ('park', 2), ('Sure', 2), ('Come', 2), ('mama', 2), ('Nice', 2), ('hold', 2), ('ohio', 2), ('whip', 2), ('twin', 2), ('burp', 2), ('blew', 2), ('temp', 2), ('corn', 2), ('pool', 2), ('cash', 2), ('ears', 2), ('From', 2), ('porn', 2), ('heal', 2), ('Dang', 2), ('ciao', 2), ('DOES', 2), ('typo', 2), ('Stop', 2), ('eric', 2), ('Drew', 2), ('sore', 2), ('Live', 2), ('High', 2), ('hits', 2), ('KoOL', 2), ('past', 2), ('Love', 2), ('meat', 2), ('argh', 2), ('limp', 2), ('rent', 2), ('cars', 2), ('Tell', 2), ('shop', 2), ('five', 2), ('sell', 2), ('city', 2), ('yard', 2), ('grrl', 2), ('chip', 2), ('bear', 2), ('foot', 2), ('uses', 2), ('DONT', 2), ('sort', 2), ('lies', 2), ('whud', 2), ('hott', 2), ('Down', 2), ('Lets', 2), ('club', 2), ('adds', 2), ('Here', 2), ('born', 2), ('wOOt', 2), ('area', 2), ('Ohio', 2), ('humm', 2), ('newp', 2), ('gays', 2), ('zone', 2), ('hint', 2), ('spin', 2), ('ewww', 2), ('pies', 2), ('doll', 2), ('drop', 2), ('gimp', 2), ('spot', 2), ('ages', 2), ('clue', 2), ('mass', 2), ('Ummm', 2), ('Gosh', 2), ('flow', 2), ('kewl', 2), ('hall', 2), ('haze', 2), ('John', 2), ('john', 2), ('sooo', 2), ('cost', 2), ('trip', 2), ('babi', 2), ('rich', 2), ('Ahhh', 2), ('moon', 2), ('STOP', 2), ('yeas', 2), ('wooo', 2), ('tick', 2), ('tock', 2), ('WITH', 2), ('FROM', 2), ('side', 2), ('Heyy', 2), ('howz', 2), ('Cool', 2), ('root', 2), ('tyvm', 2), ('luvs', 2), ('fits', 2), ('rofl', 2), ('sand', 2), ('ltns', 2), ('flaw', 2), ('aunt', 2), ('lawl', 2), ('Okay', 2), ('HAVE', 2), ('NONE', 2), ('YOUR', 2), ('Lmao', 2), ('Tisk', 2), ('tisk', 2), ('draw', 1), ('docs', 1), ('Slip', 1), ('Fade', 1), ('bowl', 1), ('bong', 1), ('ogan', 1), ('cams', 1), ('gooo', 1), ('yeee', 1), ('ahah', 1), ('jeep', 1), ('Deep', 1), ('Show', 1), ('Turn', 1), ('Hand', 1), ('VBox', 1), ('ELSE', 1), ('serg', 1), ('bein', 1), ('whys', 1), ('tape', 1), ('sexs', 1), ('form', 1), ('HUGE', 1), ('nads', 1), ('owww', 1), ('gags', 1), ('Meep', 1), ('LAst', 1), ('lool', 1), ('kina', 1), ('sext', 1), ('lazy', 1), ('calm', 1), ('arms', 1), ('smax', 1), ('VVil', 1), ('este', 1), ('chik', 1), ('Boyz', 1), ('coat', 1), ('Eyes', 1), ('Dawn', 1), ('LIVE', 1), ('mauh', 1), ('ques', 1), ('gosh', 1), ('ruff', 1), ('mame', 1), ('nada', 1), ('push', 1), ('prob', 1), ('wild', 1), ('whew', 1), ('dark', 1), ('waht', 1), ('test', 1), ('boot', 1), ('hiom', 1), ('HAHA', 1), ('dman', 1), ('jail', 1), ('cops', 1), ('hogs', 1), ('peek', 1), ('MORE', 1), ('TIME', 1), ('loud', 1), ('Sexy', 1), ('Ctrl', 1), ('hots', 1), ('Need', 1), ('frst', 1), ('crop', 1), ('bomb', 1), ('Pour', 1), ('pour', 1), ('Swim', 1), ('Hard', 1), ('eeek', 1), ('tjhe', 1), ('heee', 1), ('peel', 1), ('fock', 1), ('Kold', 1), ('exit', 1), ('kold', 1), ('MRIs', 1), ('buff', 1), ('plus', 1), ('tory', 1), ('knee', 1), ('OOPS', 1), ('oooh', 1), ('lala', 1), ('fake', 1), ('ssid', 1), ('poot', 1), ('poop', 1), ('bird', 1), ('plow', 1), ('thnx', 1), ('card', 1), ('Hugs', 1), ('Lord', 1), ('uyes', 1), ('benz', 1), ('disc', 1), ('LONG', 1), ('Been', 1), ('Will', 1), ('bloe', 1), ('blow', 1), ('hooo', 1), ('thje', 1), ('Jess', 1), ('term', 1), ('Tina', 1), ('ooer', 1), ('HALO', 1), ('Awww', 1), ('anal', 1), ('Drop', 1), ('dojn', 1), ('wubs', 1), ('mkay', 1), ('spat', 1), ('gees', 1), ('hawT', 1), ('puts', 1), ('fish', 1), ('size', 1), ('syck', 1), ('tere', 1), ('sent', 1), ('Werd', 1), ('Rofl', 1), ('mode', 1), ('nawt', 1), ('sign', 1), ('woof', 1), ('ghet', 1), ('brad', 1), ('offa', 1), ('Dood', 1), ('LOUD', 1), ('sink', 1), ('FINE', 1), ('cums', 1), ('loss', 1), ('Life', 1), ('Damn', 1), ('wrap', 1), ('hide', 1), ('Talk', 1), ('okey', 1), ('worl', 1), ('Hold', 1), ('cepn', 1), ('lots', 1), ('Mary', 1), ('nawp', 1), ('addy', 1), ('lake', 1), ('slip', 1), ('mite', 1), ('wood', 1), ('orta', 1), ('wins', 1), ('ebay', 1), ('coem', 1), ('giva', 1), ('ally', 1), ('Judy', 1), ('cyas', 1), ('shup', 1), ('tooo', 1), ('choc', 1), ('wher', 1), ('whoo', 1), ('dint', 1), ('tend', 1), ('menu', 1), ('lust', 1), ('nods', 1), ('NAME', 1), ('kept', 1), ('scuk', 1), ('raed', 1), ('Then', 1), ('bugs', 1), ('nerd', 1), ('Hill', 1), ('Evil', 1), ('saME', 1), ('Time', 1), ('pimp', 1), ('haaa', 1), ('Mono', 1), ('mono', 1), ('Bone', 1), ('Hero', 1), ('Came', 1), ('Hott', 1), ('Joey', 1), ('Jane', 1), ('span', 1), ('wore', 1), ('QUIT', 1), ('pasa', 1), ('barn', 1), ('Kick', 1), ('feat', 1), ('Back', 1), ('dork', 1), ('laid', 1), ('Home', 1), ('herd', 1), ('Born', 1), ('Away', 1), ('Tide', 1), ('jush', 1), ('Cute', 1), ('GrlZ', 1), ('lung', 1), ('SOME', 1), ('Lion', 1), ('brat', 1), ('MUAH', 1), ('fawk', 1), ('dust', 1), ('Help', 1), ('seth', 1), ('Heya', 1), ('bone', 1), ('abou', 1), ('tthe', 1), ('Even', 1), ('herE', 1), ('Hail', 1), ('halo', 1), ('pork', 1), ('mark', 1), ('dotn', 1), ('PMSL', 1), ('pmsl', 1), ('gift', 1), ('outs', 1), ('Paul', 1), ('outa', 1), ('York', 1), ('Care', 1), ('Chat', 1), ('fear', 1), ('dies', 1), ('givs', 1), ('bust', 1), ('xmas', 1), ('enuf', 1), ('LoVe', 1), ('eeww', 1), ('dick', 1), ('fair', 1), ('lyin', 1), ('lois', 1), ('cuss', 1), ('LATE', 1), ('THEY', 1), ('GOOD', 1), ('rape', 1), ('geez', 1), ('tart', 1), ('hgey', 1), ('caan', 1), ('Elle', 1), ('nude', 1), ('allo', 1), ('yesh', 1), ('wind', 1), ('Reub', 1), ('heat', 1), ('kmph', 1), ('pope', 1), ('yess', 1), ('duet', 1), ('wuts', 1), ('west', 1), ('quiz', 1), ('scar', 1), ('Girl', 1), ('pair', 1), ('Rang', 1), ('rang', 1), ('bell', 1), ('dawg', 1), ('febe', 1), ('Prof', 1), ('Kewl', 1), ('jude', 1), ('Yoko', 1), ('seee', 1), ('whou', 1), ('idnt', 1), ('perk', 1), ('http', 1), ('yell', 1), ('mang', 1), ('SSRI', 1), ('cure', 1), ('wean', 1), ('post', 1), ('anti', 1), ('noth', 1), ('tall', 1), ('pray', 1), ('weed', 1), ('icky', 1), ('Rick', 1), ('spit', 1), ('lube', 1), ('mami', 1), ('east', 1), ('seat', 1), ('cock', 1), ('SExy', 1), ('otay', 1), ('firs', 1), ('site', 1), ('dump', 1), ('toop', 1), ('four', 1), ('sets', 1), ('asss', 1), ('paid', 1), ('Iowa', 1), ('Teck', 1), ('jeff', 1), ('crib', 1), ('drug', 1), ('cook', 1), ('ladz', 1), ('aime', 1), ('hong', 1), ('kong', 1), ('Oops', 1), ('tits', 1), ('gret', 1), ('guns', 1), ('inch', 1), ('sean', 1), ('howl', 1), ('Take', 1), ('Haha', 1), ('slam', 1), ('pine', 1), ('puke', 1), ('waaa', 1), ('urls', 1), ('star', 1), ('Save', 1), ('teck', 1), ('Room', 1), ('sori', 1), ('Long', 1), ('poem', 1), ('jack', 1), ('Rule', 1), ('CAPS', 1), ('junk', 1), ('tips', 1), ('rush', 1), ('Nooo', 1), ('Troy', 1), ('tail', 1), ('Seee', 1), ('dyed', 1), ('beam', 1), ('daft', 1), ('twit', 1), ('scum', 1), ('Type', 1), ('WHOA', 1), ('toke', 1), ('ribs', 1), ('Eggs', 1), ('Wyte', 1), ('moms', 1), ('Over', 1), ('West', 1), ('Rock', 1), ('goof', 1), ('able', 1), ('vamp', 1), ('Nope', 1), ('Kent', 1), ('ther', 1), ('TEXT', 1), ('SIZE', 1), ('gear', 1), ('CALI', 1), ('Matt', 1), ('Rush', 1), ('AWAY', 1), ('NTMN', 1), ('Kiss', 1), ('grea', 1), ('Look', 1), ('guts', 1), ('wrek', 1), ('Fort', 1), ('AKST', 1), ('wire', 1), ('soda', 1), ('gray', 1), ('tlak', 1), ('ltnc', 1), ('sayn', 1), ('evah', 1), ('bike', 1), ('hill', 1), ('ohwa', 1), ('caca', 1), ('prep', 1), ('pull', 1), ('dirt', 1), ('vent', 1), ('safe', 1), ('dogs', 1), ('bull', 1), ('asks', 1), ('Road', 1), ('chit', 1), ('grin', 1), ('bred', 1), ('rats', 1), ('samn', 1), ('Phil', 1), ('nuff', 1), ('rose', 1), ('Ruth', 1), ('grew', 1), ('mena', 1), ('ROFL', 1), ('lapd', 1), ('surf', 1), ('City', 1), ('hazy', 1), ('thot', 1), ('acid', 1), ('wide', 1), ('keys', 1), ('salt', 1), ('mess', 1), ('base', 1), ('byes', 1), ('yout', 1), ('numb', 1), ('thah', 1), ('mahn', 1), ('King', 1), ('TALK', 1), ('GIRL', 1), ('WHEN', 1), ('HOTT', 1), ('HERE', 1), ('soup', 1), ('Mine', 1), ('vega', 1), ('pigs', 1), ('king', 1), ('poof', 1), ('Nova', 1), ('mofo', 1), ('Ohhh', 1), ('Holy', 1), ('sips', 1), ('clay', 1), ('None', 1), ('Male', 1), ('bacl', 1), ('body', 1), ('akon', 1), ('yoll', 1), ('boom', 1), ('News', 1), ('Maps', 1), ('page', 1), ('Tiff', 1), ('Chop', 1), ('DAMN', 1), ('TYPR', 1), ('poll', 1), ('boed', 1), ('Dude', 1), ('Does', 1), ('pwns', 1), ('Very', 1), ('Good', 1), ('Food', 1), ('sexi', 1), ('bois', 1), ('KNOW', 1), ('GUYS', 1), ('YALL', 1), ('EVEN', 1), ('SEEN', 1), ('WILL', 1), ('COME', 1), ('FACE', 1), ('JUST', 1), ('Kids', 1), ('bied', 1), ('Uhhh', 1), ('tenn', 1), ('pure', 1), ('gals', 1), ('woah', 1), ('ussy', 1), ('tiff', 1), ('Heys', 1), ('lisa', 1), ('brwn', 1), ('hurr', 1), ('Were', 1)]\n"
     ]
    }
   ],
   "source": [
    "letter4_text5 = [w for w in text5 if w.isalpha() == True and len(w) == 4]\n",
    "letter4_text5_dist = FreqDist(letter4_text5)\n",
    "print(letter4_text5_dist.most_common())\n",
    "#print(sorted(letter4_text5))"
   ],
   "metadata": {
    "collapsed": false,
    "ExecuteTime": {
     "end_time": "2024-03-06T16:16:44.364784Z",
     "start_time": "2024-03-06T16:16:44.130392Z"
    }
   },
   "execution_count": 77
  },
  {
   "cell_type": "markdown",
   "source": [
    "### 23. Review the discussion of looping with conditions in 4. Use a combination of for and if statements to loop over the words of the movie script for Monty Python and the Holy Grail (text6) and print all the uppercase words, one per line."
   ],
   "metadata": {
    "collapsed": false
   }
  },
  {
   "cell_type": "code",
   "outputs": [
    {
     "name": "stdout",
     "output_type": "stream",
     "text": [
      "KING\n",
      "CART\n",
      "CART\n",
      "DEAD\n",
      "CART\n",
      "DEAD\n",
      "CART\n",
      "DEAD\n",
      "CART\n",
      "DEAD\n",
      "CART\n",
      "DEAD\n",
      "CART\n",
      "DEAD\n",
      "CART\n",
      "CART\n",
      "CART\n",
      "DEAD\n",
      "DEAD\n",
      "CART\n",
      "CART\n",
      "CART\n",
      "WIFE\n",
      "LEFT\n",
      "HEAD\n",
      "HEAD\n",
      "HEAD\n",
      "HEAD\n",
      "LEFT\n",
      "HEAD\n",
      "HEAD\n",
      "LEFT\n",
      "HEAD\n",
      "LEFT\n",
      "HEAD\n",
      "HEAD\n",
      "HEAD\n",
      "LEFT\n",
      "HEAD\n",
      "HEAD\n",
      "HEAD\n",
      "LEFT\n",
      "HEAD\n",
      "HEAD\n",
      "LEFT\n",
      "HEAD\n",
      "HEAD\n",
      "HEAD\n",
      "LEFT\n",
      "HEAD\n",
      "HEAD\n",
      "HEAD\n",
      "LEFT\n",
      "HEAD\n",
      "HEAD\n",
      "HEAD\n",
      "ZOOT\n",
      "ZOOT\n",
      "ZOOT\n",
      "ZOOT\n",
      "ZOOT\n",
      "ZOOT\n",
      "ZOOT\n",
      "ZOOT\n",
      "ZOOT\n",
      "ZOOT\n",
      "ZOOT\n",
      "ZOOT\n",
      "ZOOT\n",
      "ZOOT\n",
      "LEFT\n",
      "HEAD\n",
      "ARMY\n",
      "HEAD\n",
      "HEAD\n",
      "HEAD\n",
      "HEAD\n",
      "HEAD\n",
      "HEAD\n",
      "HEAD\n",
      "HEAD\n",
      "HEAD\n",
      "HEAD\n",
      "HEAD\n",
      "HEAD\n",
      "HEAD\n",
      "HEAD\n",
      "HEAD\n",
      "HEAD\n",
      "HEAD\n",
      "HEAD\n",
      "HEAD\n",
      "HEAD\n",
      "HEAD\n",
      "HEAD\n",
      "HEAD\n",
      "HEAD\n",
      "HEAD\n",
      "HEAD\n",
      "HEAD\n",
      "HEAD\n",
      "HEAD\n",
      "BORS\n",
      "BORS\n",
      "ARMY\n",
      "WIFE\n",
      "WIFE\n"
     ]
    }
   ],
   "source": [
    "for word in text6: \n",
    "    if len(word) == 4 and word.isupper() == True:\n",
    "        print(word)"
   ],
   "metadata": {
    "collapsed": false,
    "ExecuteTime": {
     "end_time": "2024-03-06T16:16:44.416935Z",
     "start_time": "2024-03-06T16:16:44.137576Z"
    }
   },
   "execution_count": 78
  },
  {
   "cell_type": "markdown",
   "source": [
    "### 24. Write expressions for finding all words in text6 that meet the conditions listed below. The result should be in the form of a list of words: ['word1', 'word2', ...].\n",
    "a. Ending in ise\n",
    "b. Containing the letter z\n",
    "c. Containing the sequence of letters pt\n",
    "d. Having all lowercase letters except for an initial capital (i.e., titlecase)"
   ],
   "metadata": {
    "collapsed": false
   }
  },
  {
   "cell_type": "code",
   "outputs": [
    {
     "name": "stdout",
     "output_type": "stream",
     "text": [
      "['wise', 'wise', 'apologise', 'surprise', 'surprise', 'surprise', 'noise', 'surprise'] ['zone', 'amazes', 'Fetchez', 'Fetchez', 'zoop', 'zoo', 'zhiv', 'frozen', 'zoosh'] ['empty', 'aptly', 'Thpppppt', 'Thppt', 'Thppt', 'empty', 'Thppppt', 'temptress', 'temptation', 'ptoo', 'Chapter', 'excepting', 'Thpppt'] ['Whoa', 'Halt', 'Who', 'It', 'I', 'Arthur', 'Uther', 'Pendragon', 'Camelot', 'King', 'Britons', 'Saxons', 'England', 'Pull', 'I', 'Patsy', 'We', 'Camelot', 'I', 'What', 'Ridden', 'Yes', 'You', 'What', 'You', 'So', 'We', 'Mercea', 'Where', 'We', 'Found', 'In', 'Mercea', 'The', 'What', 'Well', 'The', 'Are', 'Not', 'They', 'What', 'A', 'It', 'It', 'It', 'A', 'Well', 'Will', 'Arthur', 'Court', 'Camelot', 'Listen', 'In', 'Please', 'Am', 'I', 'I', 'It', 'African', 'Oh', 'African', 'European', 'That', 'Oh', 'I', 'Will', 'Camelot', 'But', 'African', 'Oh', 'So', 'Wait', 'Supposing', 'No', 'Well', 'They', 'What', 'Well', 'Bring', 'Bring', 'Bring', 'Bring', 'Bring', 'Bring', 'Bring', 'Bring', 'Ninepence', 'Bring', 'Bring', 'Bring', 'Bring', 'Here', 'Ninepence', 'I', 'What', 'Nothing', 'Here', 'I', 'Ere', 'He', 'Yes', 'I', 'He', 'Well', 'He', 'I', 'No', 'You', 'Oh', 'I', 'It', 'I', 'Oh', 'I', 'I', 'Well', 'I', 'Well', 'He', 'No', 'I', 'Robinson', 'They', 'Well', 'Thursday', 'I', 'I', 'You', 'Look', 'I', 'I', 'Ah', 'Not', 'See', 'Thursday', 'Right', 'All', 'Who', 'I', 'Must', 'Why', 'He', 'King', 'Arthur', 'King', 'Arthur', 'Old', 'Man', 'Man', 'Sorry', 'What', 'I', 'I', 'I', 'I', 'Well', 'I', 'Man', 'Well', 'Dennis', 'Well', 'I', 'Dennis', 'Well', 'I', 'What', 'I', 'Well', 'I', 'Oh', 'And', 'By', 'By', 'If', 'Dennis', 'Oh', 'How', 'How', 'I', 'Arthur', 'King', 'Britons', 'Who', 'King', 'The', 'Britons', 'Who', 'Britons', 'Well', 'We', 'Britons', 'I', 'I', 'I', 'You', 'We', 'A', 'Oh', 'That', 'If', 'Please', 'I', 'Who', 'No', 'Then', 'We', 'What', 'I', 'We', 'We', 'Yes', 'But', 'Yes', 'I', 'By', 'Be', 'But', 'Be', 'I', 'Order', 'Who', 'Heh', 'I', 'Well', 'I', 'You', 'Well', 'The', 'Lady', 'Lake', 'Excalibur', 'Divine', 'Providence', 'I', 'Arthur', 'Excalibur', 'That', 'I', 'Listen', 'Supreme', 'Be', 'Well', 'Shut', 'I', 'I', 'I', 'Shut', 'Shut', 'Ah', 'Shut', 'Oh', 'Come', 'Help', 'I', 'Bloody', 'Oh', 'Did', 'Did', 'That', 'I', 'Did', 'You', 'King', 'Arthur', 'Aaagh', 'King', 'Arthur', 'Aaagh', 'Ooh', 'King', 'Arthur', 'Aagh', 'Oh', 'King', 'Arthur', 'Ooh', 'Aaagh', 'Agh', 'Aaaaaah', 'Aaaaaaaaah', 'Umm', 'You', 'Sir', 'Knight', 'I', 'Arthur', 'King', 'Britons', 'I', 'Camelot', 'You', 'Will', 'You', 'So', 'Come', 'Patsy', 'None', 'What', 'None', 'I', 'Sir', 'Knight', 'I', 'Then', 'I', 'King', 'Britons', 'I', 'So', 'Aaah', 'Now', 'Tis', 'A', 'Your', 'No', 'Well', 'I', 'You', 'Come', 'Huyah', 'Hiyaah', 'Aaaaaaaah', 'Victory', 'We', 'Thee', 'Lord', 'Thy', 'Hah', 'Come', 'What', 'Have', 'Eh', 'You', 'Sir', 'Knight', 'Oh', 'Look', 'You', 'Yes', 'I', 'Look', 'Just', 'Look', 'Chicken', 'Chickennn', 'Look', 'I', 'Right', 'Right', 'I', 'You', 'Come', 'What', 'I', 'You', 'The', 'Black', 'Knight', 'Have', 'Come', 'Ooh', 'All', 'Come', 'Patsy', 'Oh', 'Oh', 'I', 'Running', 'You', 'Come', 'I', 'Pie', 'Iesu', 'Pie', 'Iesu', 'Pie', 'Iesu', 'A', 'A', 'A', 'A', 'Pie', 'Iesu', 'A', 'A', 'A', 'A', 'We', 'A', 'A', 'A', 'A', 'We', 'A', 'A', 'Burn', 'Burn', 'Burn', 'We', 'We', 'A', 'A', 'A', 'We', 'May', 'Burn', 'Burn', 'Burn', 'Burn', 'How', 'She', 'Right', 'Yeah', 'Yeah', 'Bring', 'I', 'I', 'Uh', 'They', 'Augh', 'We', 'And', 'It', 'Well', 'Well', 'The', 'And', 'Yeah', 'We', 'Right', 'Yeaaah', 'Yeaah', 'Did', 'No', 'No', 'No', 'No', 'No', 'No', 'Yes', 'Yes', 'Yes', 'Yeah', 'A', 'A', 'A', 'She', 'What', 'Well', 'A', 'I', 'Burn', 'Burn', 'Burn', 'Burn', 'Burn', 'Quiet', 'Quiet', 'Quiet', 'Quiet', 'There', 'Are', 'Ah', 'What', 'Tell', 'Tell', 'Tell', 'Burn', 'Burn', 'Burn', 'Burn', 'Burn', 'And', 'More', 'Shh', 'Wood', 'So', 'B', 'Good', 'Heh', 'Oh', 'Oh', 'So', 'Build', 'Ah', 'Oh', 'Oh', 'True', 'Uhh', 'Does', 'No', 'No', 'No', 'It', 'Throw', 'The', 'Throw', 'What', 'Bread', 'Apples', 'Uh', 'Cider', 'Uh', 'Cherries', 'Mud', 'Churches', 'Churches', 'Lead', 'Lead', 'A', 'Oooh', 'Exactly', 'So', 'If', 'And', 'A', 'A', 'A', 'A', 'Here', 'Use', 'We', 'Ohh', 'Ohh', 'Burn', 'Burn', 'Burn', 'Burn', 'Burn', 'Burn', 'Burn', 'Burn', 'Burn', 'Ahh', 'Ahh', 'Right', 'Remove', 'A', 'A', 'A', 'It', 'Burn', 'Burn', 'Burn', 'Burn', 'Burn', 'Burn', 'Who', 'I', 'Arthur', 'King', 'Britons', 'My', 'Good', 'Sir', 'Knight', 'Camelot', 'Round', 'Table', 'My', 'I', 'What', 'Bedevere', 'Then', 'I', 'Sir', 'Bedevere', 'Knight', 'Round', 'Table', 'The', 'Sir', 'Bedevere', 'King', 'Arthur', 'Sir', 'Lancelot', 'Brave', 'Sir', 'Gallahad', 'Pure', 'Sir', 'Robin', 'Sir', 'Lancelot', 'Dragon', 'Angnor', 'Chicken', 'Bristol', 'Battle', 'Badon', 'Hill', 'Sir', 'Not', 'Together', 'Knights', 'Round', 'Table', 'And', 'This', 'Sir', 'Bedevere', 'Explain', 'Oh', 'Look', 'Camelot', 'Camelot', 'Camelot', 'It', 'Shh', 'Knights', 'I', 'Let', 'Camelot', 'We', 'We', 'We', 'With', 'We', 'Camelot', 'We', 'We', 'Round', 'Table', 'Our', 'But', 'That', 'We', 'Camelot', 'We', 'In', 'Quite', 'Between', 'Clark', 'Gable', 'It', 'Camelot', 'I', 'Well', 'Camelot', 'It', 'Right', 'Right', 'Arthur', 'Arthur', 'King', 'Britons', 'Oh', 'One', 'I', 'Sorry', 'And', 'Every', 'I', 'I', 'What', 'I', 'O', 'Lord', 'Well', 'It', 'Psalms', 'Now', 'Yes', 'Lord', 'Right', 'Arthur', 'King', 'Britons', 'Knights', 'Round', 'Table', 'Good', 'O', 'Lord', 'Course', 'Behold', 'Arthur', 'Holy', 'Grail', 'Look', 'Arthur', 'That', 'Arthur', 'Holy', 'Grail', 'A', 'A', 'Lord', 'God', 'King', 'Arthur', 'Halt', 'Hallo', 'Hallo', 'Allo', 'Who', 'It', 'King', 'Arthur', 'Knights', 'Round', 'Table', 'Who', 'This', 'Guy', 'Loimbard', 'Go', 'God', 'If', 'Holy', 'Grail', 'Well', 'I', 'I', 'Uh', 'What', 'He', 'Are', 'Oh', 'I', 'Well', 'Of', 'You', 'English', 'Well', 'I', 'French', 'Why', 'I', 'What', 'England', 'Mind', 'If', 'Grail', 'You', 'English', 'Go', 'I', 'Arthur', 'King', 'English', 'Thpppppt', 'Thppt', 'Thppt', 'What', 'Now', 'I', 'I', 'You', 'Is', 'No', 'I', 'Now', 'I', 'Fetchez', 'Quoi', 'Fetchez', 'If', 'I', 'Jesus', 'Christ', 'Christ', 'Ah', 'Ohh', 'Right', 'Charge', 'Charge', 'Hey', 'There', 'And', 'Run', 'Run', 'Thppppt', 'Fiends', 'I', 'No', 'No', 'Sir', 'I', 'C', 'Quoi', 'Un', 'What', 'A', 'Oh', 'Oui', 'Hurry', 'What', 'Let', 'Oh', 'On', 'Bon', 'Over', 'What', 'Well', 'Launcelot', 'Galahad', 'I', 'French', 'Not', 'Who', 'U', 'Launcelot', 'Galahad', 'I', 'Uh', 'Ohh', 'Oh', 'Um', 'Run', 'Run', 'Run', 'Run', 'Run', 'Run', 'Run', 'Run', 'Oh', 'Haw', 'Haw', 'Picture', 'Schools', 'Action', 'Defeat', 'King', 'Arthur', 'The', 'French', 'Arthur', 'Holy', 'Grail', 'Arthur', 'Grail', 'Now', 'Launcelot', 'Aaaah', 'S', 'Frank', 'The', 'Tale', 'Sir', 'Robin', 'So', 'Sir', 'Robin', 'Ewing', 'Bravely', 'Sir', 'Robin', 'Camelot', 'He', 'O', 'Sir', 'Robin', 'He', 'Brave', 'Sir', 'Robin', 'He', 'Or', 'To', 'And', 'Sir', 'Robin', 'His', 'And', 'And', 'And', 'That', 'Heh', 'Looks', 'Anarcho', 'Oh', 'Dennis', 'We', 'Halt', 'Who', 'He', 'Sir', 'Robin', 'Sir', 'Robin', 'Shut', 'Um', 'I', 'What', 'To', 'Shut', 'Um', 'I', 'Sir', 'Knight', 'I', 'Ah', 'W', 'I', 'I', 'Knight', 'Round', 'Table', 'You', 'Knight', 'Round', 'Table', 'I', 'In', 'I', 'Shall', 'I', 'Oh', 'I', 'Well', 'I', 'I', 'Oh', 'Oh', 'Perhaps', 'I', 'And', 'Oh', 'Get', 'I', 'Oh', 'Yes', 'What', 'Yapping', 'You', 'You', 'What', 'You', 'Oh', 'I', 'Anyway', 'Well', 'Oh', 'Oh', 'All', 'All', 'We', 'Yes', 'Oh', 'All', 'All', 'Right', 'He', 'So', 'He', 'Brave', 'Sir', 'Robin', 'No', 'Bravely', 'I', 'When', 'No', 'Yes', 'Sir', 'Robin', 'I', 'And', 'I', 'He', 'All', 'Bravest', 'Sir', 'Robin', 'I', 'Pie', 'Iesu', 'Heh', 'Pie', 'Iesu', 'Wayy', 'Ho', 'Woa', 'Heh', 'Heh', 'Wayy', 'Wayy', 'Forgive', 'Oh', 'Oooo', 'The', 'Tale', 'Sir', 'Galahad', 'Open', 'Open', 'In', 'King', 'Arthur', 'Hello', 'Welcome', 'Sir', 'Knight', 'Welcome', 'Castle', 'Anthrax', 'The', 'Castle', 'Anthrax', 'Yes', 'Oh', 'Oh', 'You', 'Holy', 'Grail', 'The', 'The', 'Grail', 'It', 'Oh', 'Midget', 'Crapper', 'Yes', 'O', 'Zoot', 'Prepare', 'Oh', 'Thank', 'Thank', 'Thank', 'Thank', 'Thank', 'Away', 'The', 'Well', 'I', 'I', 'What', 'Sir', 'Galahad', 'Chaste', 'Mine', 'Zoot', 'Just', 'Zoot', 'Oh', 'Look', 'In', 'God', 'Grail', 'Oh', 'You', 'No', 'I', 'It', 'Sir', 'Galahad', 'You', 'Well', 'I', 'I', 'Oh', 'I', 'We', 'Oooh', 'It', 'We', 'Nay', 'Nay', 'Come', 'Come', 'You', 'Oh', 'No', 'Oh', 'No', 'Lie', 'Well', 'They', 'Uh', 'B', 'Oh', 'You', 'Doctor', 'Piglet', 'Doctor', 'Winston', 'Practice', 'Try', 'Are', 'We', 'There', 'Please', 'We', 'Look', 'This', 'I', 'Back', 'At', 'Torment', 'I', 'Grail', 'There', 'I', 'I', 'I', 'Hello', 'Oh', 'Hello', 'Hello', 'Hello', 'Hello', 'Hello', 'Hello', 'Hello', 'Hello', 'Hello', 'Hello', 'Hello', 'Hello', 'Hello', 'Hello', 'Hello', 'Hello', 'Hello', 'Hello', 'Hello', 'Hello', 'Hello', 'Hello', 'Hello', 'Zoot', 'No', 'I', 'Zoot', 'Dingo', 'Oh', 'I', 'Where', 'I', 'Grail', 'I', 'Oh', 'Oh', 'Bad', 'Zoot', 'Well', 'Oh', 'Zoot', 'She', 'I', 'It', 'It', 'Grail', 'Oh', 'Zoot', 'She', 'Do', 'We', 'It', 'I', 'At', 'Well', 'It', 'Get', 'Yes', 'Yes', 'Oh', 'I', 'Get', 'Oh', 'Zoot', 'Oh', 'And', 'Castle', 'Anthrax', 'You', 'A', 'A', 'You', 'And', 'And', 'And', 'And', 'And', 'Yes', 'A', 'A', 'There', 'And', 'The', 'The', 'Well', 'I', 'Sir', 'Galahad', 'Oh', 'Quick', 'What', 'Quick', 'Why', 'You', 'No', 'Silence', 'You', 'Come', 'We', 'Look', 'I', 'Come', 'Sir', 'Galahad', 'No', 'Look', 'I', 'Yes', 'Let', 'Yes', 'Let', 'No', 'Sir', 'Galahad', 'Come', 'No', 'Really', 'Honestly', 'I', 'I', 'Oh', 'Let', 'Yes', 'Let', 'No', 'Quick', 'Quick', 'Please', 'I', 'There', 'Yes', 'He', 'We', 'We', 'He', 'Oh', 'We', 'You', 'I', 'I', 'Yes', 'You', 'Look', 'No', 'Look', 'I', 'No', 'Holy', 'Grail', 'Come', 'Oh', 'No', 'It', 'I', 'No', 'I', 'Sir', 'Launcelot', 'Sir', 'Galahad', 'Grail', 'Meanwhile', 'King', 'Arthur', 'Sir', 'Bedevere', 'Oh', 'I', 'I', 'Get', 'Oh', 'On', 'Arthur', 'I', 'Heh', 'Hee', 'And', 'Grail', 'Ha', 'Heh', 'Ha', 'Ha', 'Where', 'Heh', 'Old', 'Hee', 'He', 'And', 'Grail', 'The', 'Grail', 'There', 'Gorge', 'Eternal', 'Peril', 'But', 'Grail', 'Where', 'Grail', 'Seek', 'Bridge', 'Death', 'The', 'Bridge', 'Death', 'Grail', 'Heh', 'Ha', 'Hee', 'Ni', 'Ni', 'Ni', 'Ni', 'Ni', 'Ni', 'Who', 'We', 'Knights', 'Who', 'Say', 'Ni', 'Ni', 'No', 'Not', 'Knights', 'Who', 'Say', 'Ni', 'The', 'Who', 'We', 'Ni', 'Peng', 'Neee', 'Neee', 'Those', 'The', 'Knights', 'Who', 'Say', 'Ni', 'Knights', 'Ni', 'Ni', 'Ni', 'Ni', 'Ni', 'Ni', 'Ni', 'Ow', 'Ow', 'Ow', 'Agh', 'We', 'Well', 'We', 'A', 'Ni', 'Ni', 'Ni', 'Ni', 'Ow', 'Oh', 'Please', 'No', 'We', 'You', 'O', 'Knights', 'Ni', 'One', 'Of', 'And', 'Yes', 'Now', 'Hmm', 'Oh', 'Great', 'Hm', 'Hmm', 'Hm', 'Hmm', 'Ohh', 'Ay', 'Thsss', 'Ayy', 'Thsss', 'Ayy', 'Stop', 'Stop', 'Ay', 'Stop', 'Look', 'Clear', 'Go', 'Go', 'Go', 'Go', 'And', 'Clear', 'Hah', 'Bloody', 'The', 'Tale', 'Sir', 'Launcelot', 'One', 'What', 'No', 'Not', 'All', 'This', 'But', 'Mother', 'Father', 'Father', 'B', 'Father', 'I', 'Listen', 'I', 'When', 'I', 'Other', 'I', 'I', 'It', 'So', 'I', 'That', 'So', 'I', 'That', 'But', 'And', 'But', 'I', 'I', 'Rather', 'I', 'Stop', 'Stop', 'You', 'I', 'Now', 'In', 'Britain', 'B', 'I', 'Listen', 'Alice', 'Herbert', 'Erbert', 'We', 'We', 'But', 'I', 'Don', 'What', 'She', 'She', 'She', 'I', 'I', 'I', 'Cut', 'Cut', 'Look', 'Princess', 'Lucky', 'Guards', 'Make', 'Prince', 'I', 'Not', 'Hic', 'No', 'Until', 'I', 'Until', 'No', 'No', 'You', 'And', 'Hic', 'Right', 'We', 'No', 'Leaving', 'Leaving', 'Yes', 'All', 'Right', 'Hic', 'Right', 'Oh', 'Yes', 'What', 'Oh', 'Look', 'Uh', 'You', 'Alright', 'Hic', 'Right', 'Oh', 'I', 'Uhh', 'N', 'No', 'You', 'Oh', 'We', 'But', 'No', 'Just', 'Until', 'No', 'Just', 'Just', 'Hic', 'Get', 'Get', 'All', 'Right', 'We', 'Hic', 'And', 'What', 'Make', 'The', 'Prince', 'Yes', 'Make', 'Oh', 'Hic', 'Ah', 'I', 'You', 'Is', 'Hic', 'Oh', 'No', 'Right', 'Where', 'We', 'No', 'I', 'Oh', 'I', 'Right', 'But', 'Father', 'Shut', 'And', 'And', 'Hic', 'Oh', 'Well', 'Concorde', 'Thank', 'Most', 'And', 'Over', 'Good', 'Steady', 'And', 'Uuh', 'Come', 'Concorde', 'Message', 'Concorde', 'Concorde', 'Speak', 'To', 'I', 'Please', 'I', 'Tall', 'Tower', 'Swamp', 'Castle', 'At', 'A', 'A', 'This', 'Holy', 'Grail', 'Brave', 'Concorde', 'Uh', 'I', 'I', 'Well', 'I', 'I', 'I', 'I', 'I', 'Oh', 'I', 'Actually', 'I', 'I', 'No', 'Concorde', 'Stay', 'I', 'I', 'Idiom', 'Idiom', 'No', 'I', 'Farewell', 'Concorde', 'I', 'I', 'Shall', 'I', 'Yeah', 'Morning', 'Morning', 'Oooh', 'Ha', 'Hiyya', 'Hey', 'Hiyya', 'Ha', 'Ha', 'Huy', 'Uuh', 'Aaah', 'Ha', 'And', 'Aah', 'Hiyah', 'Aah', 'Aaah', 'Hyy', 'Hya', 'Hiyya', 'Ha', 'Now', 'O', 'Sir', 'Launcelot', 'Camelot', 'I', 'Oh', 'I', 'You', 'Uh', 'I', 'I', 'You', 'Uh', 'You', 'I', 'I', 'I', 'Well', 'I', 'Stop', 'Stop', 'Stop', 'Stop', 'Who', 'I', 'No', 'Uh', 'I', 'Sir', 'Launcelot', 'He', 'Father', 'Well', 'Did', 'Uh', 'Oh', 'Sorry', 'They', 'Well', 'I', 'Um', 'I', 'Don', 'Sir', 'Launcelot', 'I', 'You', 'Well', 'I', 'I', 'Hurry', 'Sir', 'Launcelot', 'Hurry', 'Shut', 'You', 'Well', 'I', 'Didn', 'You', 'Oh', 'Is', 'You', 'This', 'Well', 'I', 'I', 'Camelot', 'I', 'Camelot', 'Are', 'Camelot', 'Hurry', 'Sir', 'Launcelot', 'Uh', 'I', 'Knight', 'King', 'Arthur', 'Very', 'Camelot', 'Uh', 'Is', 'Hurry', 'I', 'Would', 'Well', 'I', 'I', 'Um', 'Oooh', 'I', 'I', 'I', 'Oh', 'Oooh', 'Well', 'We', 'There', 'Oh', 'Ha', 'Hey', 'Ha', 'Hold', 'Stop', 'Hold', 'Hold', 'Hold', 'Hold', 'Hold', 'Please', 'Sorry', 'Sorry', 'You', 'I', 'I', 'I', 'Sorry', 'Sorry', 'He', 'Hold', 'Hold', 'Please', 'Hold', 'This', 'Sir', 'Launcelot', 'Court', 'Camelot', 'Hello', 'He', 'Please', 'Please', 'This', 'Let', 'We', 'Unfortunately', 'Herbert', 'Oh', 'Oh', 'But', 'I', 'I', 'For', 'He', 'Since', 'He', 'For', 'S', 'Uugh', 'Oh', 'And', 'I', 'And', 'I', 'Princess', 'Sir', 'Launcelot', 'Camelot', 'What', 'Look', 'The', 'Prince', 'Oooh', 'The', 'Prince', 'He', 'No', 'I', 'You', 'Tall', 'Tower', 'No', 'I', 'How', 'Well', 'I', 'Not', 'Not', 'No', 'Stop', 'He', 'He', 'Shut', 'He', 'Shut', 'He', 'Shut', 'He', 'Not', 'He', 'He', 'He', 'He', 'Quickly', 'He', 'Come', 'He', 'He', 'No', 'It', 'He', 'I', 'Oh', 'Dramatically', 'Dramatically', 'But', 'Heee', 'Hoa', 'Hoo', 'What', 'Excuse', 'Could', 'King', 'Arthur', 'Old', 'Is', 'Who', 'The', 'Knights', 'Who', 'Say', 'Ni', 'Aggh', 'No', 'Never', 'We', 'If', 'I', 'Agh', 'Do', 'Very', 'If', 'No', 'Never', 'No', 'Ni', 'Nu', 'No', 'Nu', 'No', 'Nu', 'No', 'You', 'No', 'Ni', 'Ni', 'That', 'That', 'You', 'Ni', 'Ohh', 'Ni', 'Ni', 'Agh', 'Ni', 'Ni', 'Ni', 'Ni', 'Ni', 'Are', 'Erm', 'Oh', 'There', 'Nothing', 'Even', 'Did', 'Yes', 'Shrubberies', 'I', 'My', 'Roger', 'Shrubber', 'I', 'Ni', 'No', 'No', 'No', 'O', 'Knights', 'Ni', 'May', 'It', 'I', 'But', 'What', 'We', 'Knights', 'Who', 'Say', 'Ni', 'Ni', 'Shh', 'Shh', 'We', 'Knights', 'Who', 'Say', 'Ecky', 'Ni', 'Therefore', 'What', 'O', 'Knights', 'Knights', 'Who', 'Til', 'Recently', 'Said', 'Ni', 'Firstly', 'Not', 'Ni', 'Then', 'A', 'A', 'A', 'Ni', 'Shh', 'Ni', 'Ni', 'Ni', 'Shh', 'Shh', 'Then', 'We', 'Oh', 'Cut', 'It', 'Aaaugh', 'Aaaugh', 'Augh', 'Ohh', 'Don', 'What', 'I', 'Knights', 'Ni', 'How', 'Aaaaugh', 'You', 'What', 'Agh', 'No', 'No', 'You', 'No', 'Not', 'My', 'Sir', 'Robin', 'Packing', 'And', 'And', 'Yes', 'Sir', 'Robin', 'My', 'It', 'Now', 'Surely', 'Holy', 'Grail', 'He', 'Shut', 'No', 'No', 'Far', 'He', 'Aaaaugh', 'I', 'Aaaaugh', 'Uh', 'No', 'Aaaaugh', 'Aaaaugh', 'Stop', 'The', 'Oh', 'Ow', 'He', 'Patsy', 'Wait', 'I', 'I', 'Ooh', 'I', 'And', 'That', 'Ohh', 'Aaaaugh', 'And', 'Arthur', 'Bedevere', 'Sir', 'Robin', 'Beyond', 'Launcelot', 'Galahad', 'Yay', 'Yay', 'In', 'Nador', 'Robin', 'Get', 'Eee', 'And', 'Yay', 'A', 'Winter', 'Spring', 'Mmm', 'Spring', 'Summer', 'Oh', 'Ahh', 'Summer', 'Winter', 'Oh', 'And', 'Winter', 'Spring', 'Summer', 'Autumn', 'Aah', 'Oh', 'Waa', 'Until', 'King', 'Arthur', 'Eh', 'Oh', 'See', 'Oh', 'Oh', 'Knights', 'Forward', 'What', 'I', 'By', 'There', 'Tim', 'Greetings', 'Tim', 'Enchanter', 'Greetings', 'King', 'Arthur', 'You', 'I', 'You', 'Holy', 'Grail', 'That', 'You', 'O', 'Tim', 'Quite', 'Oh', 'Yes', 'Holy', 'Grail', 'Our', 'Holy', 'Grail', 'Yeah', 'Yes', 'It', 'It', 'Yeah', 'Yup', 'Yup', 'Hm', 'And', 'Yes', 'Yeah', 'We', 'We', 'We', 'Ages', 'Umhm', 'Uh', 'Look', 'Fine', 'Um', 'I', 'I', 'A', 'A', 'A', 'Yes', 'I', 'Y', 'Yes', 'Yup', 'That', 'Yes', 'Oh', 'Oh', 'Thank', 'Ahh', 'Oh', 'Fine', 'Thank', 'Splendid', 'Aah', 'Look', 'Yes', 'I', 'Holy', 'Grail', 'Oh', 'Oh', 'To', 'Caerbannog', 'Olfin', 'Bedwere', 'Rheged', 'Holy', 'Grail', 'Where', 'O', 'Tim', 'Follow', 'But', 'Follow', 'Bones', 'So', 'What', 'They', 'Then', 'Dis', 'Behold', 'Caerbannog', 'Right', 'Keep', 'What', 'W', 'Too', 'What', 'There', 'Where', 'There', 'What', 'It', 'You', 'What', 'You', 'Well', 'Ohh', 'That', 'You', 'I', 'I', 'Look', 'Get', 'He', 'Oh', 'You', 'I', 'What', 'He', 'Go', 'Bors', 'Chop', 'Right', 'Silly', 'One', 'Look', 'Aaaugh', 'Jesus', 'Christ', 'I', 'I', 'I', 'Oh', 'Oh', 'Well', 'I', 'Oh', 'Do', 'Right', 'Oh', 'Charge', 'Aaaaugh', 'Aaaugh', 'Run', 'Run', 'Run', 'Run', 'Ha', 'Ha', 'Ha', 'Ha', 'Right', 'How', 'Gawain', 'Ector', 'And', 'Bors', 'That', 'Three', 'Three', 'Three', 'And', 'That', 'Would', 'Oh', 'Let', 'It', 'Like', 'Well', 'Have', 'No', 'We', 'Holy', 'Hand', 'Grenade', 'Yes', 'The', 'Holy', 'Hand', 'Grenade', 'Antioch', 'Tis', 'Brother', 'Maynard', 'Brother', 'Maynard', 'Bring', 'Holy', 'Hand', 'Grenade', 'Pie', 'Iesu', 'Pie', 'Iesu', 'Pie', 'Iesu', 'Pie', 'Iesu', 'How', 'I', 'Consult', 'Book', 'Armaments', 'Armaments', 'Chapter', 'Two', 'Nine', 'Twenty', 'And', 'Saint', 'Attila', 'O', 'Lord', 'And', 'Lord', 'Skip', 'Brother', 'And', 'Lord', 'First', 'Holy', 'Pin', 'Then', 'Three', 'Four', 'Five', 'Once', 'Holy', 'Hand', 'Grenade', 'Antioch', 'Amen', 'Amen', 'Right', 'One', 'Three', 'Three', 'There', 'Look', 'What', 'What', 'Brother', 'Maynard', 'You', 'It', 'Aramaic', 'Of', 'Joseph', 'Arimathea', 'Course', 'What', 'It', 'Here', 'Joseph', 'Arimathea', 'He', 'Holy', 'Grail', 'Castle', 'What', 'Castle', 'What', 'He', 'Oh', 'Well', 'Look', 'He', 'Well', 'Perhaps', 'Oh', 'Well', 'No', 'Just', 'Aauuggghhh', 'Aaauggh', 'Do', 'Camaaaaaargue', 'Where', 'France', 'I', 'Isn', 'Saint', 'Aauuuves', 'Cornwall', 'No', 'Saint', 'Ives', 'Oh', 'Saint', 'Iiiives', 'Iiiiives', 'Oooohoohohooo', 'No', 'Aauuuuugh', 'Aauuugh', 'N', 'No', 'Oooooooh', 'Oh', 'Yes', 'I', 'Oooh', 'My', 'God', 'It', 'Black', 'Beast', 'Aaauugh', 'Black', 'Beast', 'Aaauugh', 'That', 'That', 'Run', 'Run', 'Run', 'Run', 'Run', 'Keep', 'Shh', 'Shh', 'Shh', 'Shh', 'Shh', 'Shh', 'Shh', 'Shh', 'We', 'Aagh', 'As', 'Black', 'Beast', 'Arthur', 'Ulk', 'The', 'The', 'Holy', 'Grail', 'There', 'The', 'Bridge', 'Death', 'Oh', 'Look', 'There', 'What', 'He', 'Bridge', 'Death', 'He', 'Three', 'Three', 'He', 'Three', 'Three', 'What', 'Then', 'Gorge', 'Eternal', 'Peril', 'Oh', 'I', 'Who', 'Sir', 'Robin', 'Yes', 'Brave', 'Sir', 'Robin', 'Hey', 'I', 'Why', 'Launcelot', 'Yes', 'Let', 'I', 'I', 'No', 'No', 'Hang', 'Hang', 'Hang', 'Just', 'Three', 'Three', 'And', 'I', 'Good', 'Sir', 'Launcelot', 'God', 'Stop', 'Who', 'Bridge', 'Death', 'Ask', 'I', 'What', 'My', 'Sir', 'Launcelot', 'Camelot', 'What', 'To', 'Holy', 'Grail', 'What', 'Blue', 'Right', 'Off', 'Oh', 'Thank', 'That', 'Stop', 'Who', 'Bridge', 'Death', 'Ask', 'I', 'What', 'Sir', 'Robin', 'Camelot', 'What', 'To', 'Holy', 'Grail', 'What', 'Assyria', 'I', 'Auuuuuuuugh', 'Stop', 'What', 'Sir', 'Galahad', 'Camelot', 'What', 'I', 'Grail', 'What', 'Blue', 'No', 'Hee', 'Stop', 'What', 'It', 'Arthur', 'King', 'Britons', 'What', 'To', 'Holy', 'Grail', 'What', 'What', 'An', 'African', 'European', 'Huh', 'I', 'I', 'Auuuuuuuugh', 'How', 'Well', 'Launcelot', 'Launcelot', 'Launcelot', 'Launcelot', 'Launcelot', 'Launcelot', 'Launcelot', 'Launcelot', 'Launcelot', 'The', 'Castle', 'Aaagh', 'Our', 'God', 'Almighty', 'God', 'Thee', 'Thou', 'Jesus', 'Christ', 'Allo', 'English', 'Monsieur', 'Arthur', 'King', 'So', 'French', 'How', 'I', 'Knights', 'Camelot', 'God', 'Himself', 'How', 'English', 'I', 'So', 'French', 'I', 'In', 'Lord', 'No', 'English', 'I', 'If', 'In', 'God', 'Agh', 'Right', 'That', 'Yes', 'Ha', 'Walk', 'Just', 'And', 'And', 'English', 'Thpppt', 'We', 'Yes', 'Stand', 'French', 'Dappy', 'Today', 'In', 'God', 'Hoo', 'Ohh', 'Holy', 'Grail', 'God', 'Ha', 'Charge', 'Hooray', 'S', 'Yes', 'They', 'I', 'Come', 'Anybody', 'All', 'Come', 'Back', 'S', 'Get', 'Back', 'Right', 'Just', 'Come', 'Come', 'Put', 'Clear', 'Come', 'With', 'Which', 'Oh', 'Come', 'Put', 'Get', 'We', 'Ahh', 'Ooh', 'Come', 'Back', 'Riiight', 'Come', 'Run', 'Run', 'Pull', 'My', 'Come', 'Back', 'Back', 'Right', 'Come', 'Everything', 'All', 'That', 'Just', 'Christ']\n"
     ]
    }
   ],
   "source": [
    "ready_list = [w for w in text6 if w.endswith('ise') \n",
    "            or 'z' in w \n",
    "            or 'pt' in w \n",
    "            or w.istitle() == True]\n",
    "ise_list = [w for w in text6 if w.endswith('ise')]\n",
    "Z_LIST = [w for w in text6 if 'z' in w]\n",
    "pt_list = [w for w in text6 if 'pt' in w]\n",
    "title_list = [w for w in text6 if w.istitle() == True]\n",
    "print(ise_list, Z_LIST, pt_list, title_list)"
   ],
   "metadata": {
    "collapsed": false,
    "ExecuteTime": {
     "end_time": "2024-03-06T16:16:44.418214Z",
     "start_time": "2024-03-06T16:16:44.194220Z"
    }
   },
   "execution_count": 79
  },
  {
   "cell_type": "markdown",
   "source": [
    "### 25. Define sent to be the list of words ['she', 'sells', 'sea', 'shells', 'by', 'the', 'sea', 'shore']. Now write code to perform the following tasks:\n",
    "a. Print all words beginning with sh\n",
    "b. Print all words longer than four characters"
   ],
   "metadata": {
    "collapsed": false
   }
  },
  {
   "cell_type": "code",
   "outputs": [
    {
     "name": "stdout",
     "output_type": "stream",
     "text": [
      "she\n",
      "shells\n",
      "sells\n",
      "shells\n",
      "shore\n"
     ]
    }
   ],
   "source": [
    "sss_list = ['she', 'sells', 'sea', 'shells', 'by', 'the', 'sea', 'shore']\n",
    "for w in sss_list:\n",
    "    if w.startswith('she'):\n",
    "        print(w) \n",
    "        \n",
    "for w in sss_list:\n",
    "    if len(w) > 4:\n",
    "        print(w)"
   ],
   "metadata": {
    "collapsed": false,
    "ExecuteTime": {
     "end_time": "2024-03-06T16:16:44.419151Z",
     "start_time": "2024-03-06T16:16:44.195431Z"
    }
   },
   "execution_count": 80
  },
  {
   "cell_type": "markdown",
   "source": [
    "### 26. What does the following Python code do? sum(len(w) for w in text1) Can you use it to work out the average word length of a text?"
   ],
   "metadata": {
    "collapsed": false
   }
  },
  {
   "cell_type": "code",
   "outputs": [
    {
     "name": "stdout",
     "output_type": "stream",
     "text": [
      "3.830411128023649\n"
     ]
    }
   ],
   "source": [
    "suma_text1 = sum(len(w) for w in text1)\n",
    "len_text1 = len(text1)\n",
    "\n",
    "print(suma_text1 / len_text1)"
   ],
   "metadata": {
    "collapsed": false,
    "ExecuteTime": {
     "end_time": "2024-03-06T16:16:44.564086Z",
     "start_time": "2024-03-06T16:16:44.235998Z"
    }
   },
   "execution_count": 81
  },
  {
   "cell_type": "markdown",
   "source": [
    "### 27. Define a function called vocab_size(text) that has a single parameter for the text, and which returns the vocabulary size of the text. "
   ],
   "metadata": {
    "collapsed": false
   }
  },
  {
   "cell_type": "code",
   "outputs": [
    {
     "data": {
      "text/plain": "2166"
     },
     "execution_count": 82,
     "metadata": {},
     "output_type": "execute_result"
    }
   ],
   "source": [
    "def vocab_size(text): \n",
    "    return len(set(text)) \n",
    "    \n",
    "vocab_size(text6)"
   ],
   "metadata": {
    "collapsed": false,
    "ExecuteTime": {
     "end_time": "2024-03-06T16:16:44.565531Z",
     "start_time": "2024-03-06T16:16:44.263643Z"
    }
   },
   "execution_count": 82
  },
  {
   "cell_type": "markdown",
   "source": [
    "### 28. Define a function percent(word, text) that calculates how often a given word occurs in a text, and expresses the result as a percentage."
   ],
   "metadata": {
    "collapsed": false
   }
  },
  {
   "cell_type": "code",
   "outputs": [
    {
     "data": {
      "text/plain": "4.017839405618022"
     },
     "execution_count": 83,
     "metadata": {},
     "output_type": "execute_result"
    }
   ],
   "source": [
    "def percent(word, text): \n",
    "    return text.count(word) / len(text)  * 100 \n",
    "\n",
    "percent('the', text7)"
   ],
   "metadata": {
    "collapsed": false,
    "ExecuteTime": {
     "end_time": "2024-03-06T16:16:44.577473Z",
     "start_time": "2024-03-06T16:16:44.355658Z"
    }
   },
   "execution_count": 83
  },
  {
   "cell_type": "markdown",
   "source": [
    "### 29. We have been using sets to store vocabularies. Try the following Python expression: set(sent3) < set(text1). Experiment with this using different arguments to set(). What does it do? Can you think of a practical application for this?"
   ],
   "metadata": {
    "collapsed": false
   }
  },
  {
   "cell_type": "code",
   "outputs": [
    {
     "data": {
      "text/plain": "True"
     },
     "execution_count": 84,
     "metadata": {},
     "output_type": "execute_result"
    }
   ],
   "source": [
    "set(sent3) < set(text1) "
   ],
   "metadata": {
    "collapsed": false,
    "ExecuteTime": {
     "end_time": "2024-03-06T16:16:44.685211Z",
     "start_time": "2024-03-06T16:16:44.581731Z"
    }
   },
   "execution_count": 84
  }
 ],
 "metadata": {
  "kernelspec": {
   "display_name": "Python 3",
   "language": "python",
   "name": "python3"
  },
  "language_info": {
   "codemirror_mode": {
    "name": "ipython",
    "version": 3
   },
   "file_extension": ".py",
   "mimetype": "text/x-python",
   "name": "python",
   "nbconvert_exporter": "python",
   "pygments_lexer": "ipython3",
   "version": "3.10.4"
  }
 },
 "nbformat": 4,
 "nbformat_minor": 2
}
