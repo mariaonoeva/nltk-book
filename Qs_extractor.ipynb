{
 "cells": [
  {
   "metadata": {},
   "cell_type": "markdown",
   "source": [
    "Hey, here I simply extract all sentences ending with \"?\" to csv file. \n",
    "\n",
    "Importing all libraries: "
   ],
   "id": "aa8b7ef3156cc44d"
  },
  {
   "metadata": {
    "ExecuteTime": {
     "end_time": "2025-02-24T19:56:07.128648Z",
     "start_time": "2025-02-24T19:56:07.121302Z"
    }
   },
   "cell_type": "code",
   "source": [
    "import re\n",
    "import os\n",
    "from collections import Counter\n",
    "import nltk\n",
    "from nltk.tokenize import sent_tokenize, word_tokenize, regexp_tokenize\n",
    "import csv"
   ],
   "id": "34901e460be4ab7c",
   "outputs": [],
   "execution_count": 44
  },
  {
   "metadata": {
    "ExecuteTime": {
     "end_time": "2025-02-24T18:44:38.496615Z",
     "start_time": "2025-02-24T18:44:38.493214Z"
    }
   },
   "cell_type": "code",
   "source": [
    "# This is necessary because I had the error with loading nltk parts \n",
    "nltk.download('punkt_tab')\n",
    "import ssl\n",
    "\n",
    "try:\n",
    "    _create_unverified_https_context = ssl._create_unverified_context\n",
    "except AttributeError:\n",
    "    pass\n",
    "else:\n",
    "    ssl._create_default_https_context = _create_unverified_https_context"
   ],
   "id": "b650910d62eeff92",
   "outputs": [],
   "execution_count": 16
  },
  {
   "metadata": {},
   "cell_type": "markdown",
   "source": "Setting a working directory.",
   "id": "622d8f6700c2e91f"
  },
  {
   "metadata": {
    "ExecuteTime": {
     "end_time": "2025-02-24T18:37:20.693701Z",
     "start_time": "2025-02-24T18:37:20.690253Z"
    }
   },
   "cell_type": "code",
   "source": "os.chdir(\"/Users/maria.onoeva/Desktop/new_folder/GitHub/nlp-repo\")",
   "id": "9ab22330a4711df2",
   "outputs": [],
   "execution_count": 5
  },
  {
   "metadata": {},
   "cell_type": "markdown",
   "source": "Loading the text to the variable <code>text</code>.",
   "id": "4e5f1678081059d5"
  },
  {
   "metadata": {
    "ExecuteTime": {
     "end_time": "2025-02-24T20:33:21.895715Z",
     "start_time": "2025-02-24T20:33:21.884569Z"
    }
   },
   "cell_type": "code",
   "source": [
    "with open('txts/HP_1ru.txt', 'r') as file:\n",
    "    text_ru = file.read()\n",
    "\n",
    "with open('txts/HP_1.txt', 'r') as file:\n",
    "    text_eng = file.read()"
   ],
   "id": "38c9ec4d4ed1302a",
   "outputs": [],
   "execution_count": 62
  },
  {
   "metadata": {
    "ExecuteTime": {
     "end_time": "2025-02-24T20:35:05.827702Z",
     "start_time": "2025-02-24T20:35:05.612701Z"
    }
   },
   "cell_type": "code",
   "source": [
    "sentences_ru = sent_tokenize(text_ru.replace(\"\\n\", \" \"), language='russian')\n",
    "sentences_eng = sent_tokenize(text_eng.replace(\"\\n\", \" \"), language='english')\n",
    "\n",
    "question_pattern = '?'\n",
    "\n",
    "questions_ru = [sent for sent in sentences_ru if question_pattern in sent]\n",
    "questions_eng = [sent for sent in sentences_eng if question_pattern in sent]\n",
    "\n",
    "print(len(questions_ru), len(questions_eng))"
   ],
   "id": "9731ac15f30c305e",
   "outputs": [
    {
     "name": "stdout",
     "output_type": "stream",
     "text": [
      "761 754\n"
     ]
    }
   ],
   "execution_count": 65
  },
  {
   "metadata": {
    "ExecuteTime": {
     "end_time": "2025-02-24T20:35:08.751370Z",
     "start_time": "2025-02-24T20:35:08.741847Z"
    }
   },
   "cell_type": "code",
   "source": [
    "from itertools import zip_longest\n",
    "import csv\n",
    "\n",
    "with open('csvs/output.csv', mode='w', newline='') as file:\n",
    "    writer = csv.writer(file, delimiter=';')\n",
    "    \n",
    "    # Write header row\n",
    "    writer.writerow(['ID', 'Russian', 'English'])\n",
    "    \n",
    "    # Use enumerate to add an ID for each row, starting at 1\n",
    "    for id_num, (ru, eng) in enumerate(zip_longest(questions_ru, questions_eng, fillvalue=''), start=1):\n",
    "        writer.writerow([id_num, ru, eng])\n"
   ],
   "id": "737d029cb7829aa7",
   "outputs": [],
   "execution_count": 66
  },
  {
   "metadata": {},
   "cell_type": "code",
   "outputs": [],
   "execution_count": null,
   "source": "",
   "id": "2bff2d2975328b9"
  }
 ],
 "metadata": {
  "kernelspec": {
   "display_name": "Python 3",
   "language": "python",
   "name": "python3"
  },
  "language_info": {
   "codemirror_mode": {
    "name": "ipython",
    "version": 2
   },
   "file_extension": ".py",
   "mimetype": "text/x-python",
   "name": "python",
   "nbconvert_exporter": "python",
   "pygments_lexer": "ipython2",
   "version": "2.7.6"
  }
 },
 "nbformat": 4,
 "nbformat_minor": 5
}
